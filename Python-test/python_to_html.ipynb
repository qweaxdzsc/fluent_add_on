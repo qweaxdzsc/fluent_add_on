{
 "cells": [
  {
   "cell_type": "markdown",
   "metadata": {},
   "source": [
    "# Python_to_Html"
   ]
  },
  {
   "cell_type": "code",
   "execution_count": 3,
   "metadata": {},
   "outputs": [],
   "source": [
    "#from txt_to_python import matrix\n",
    "import webbrowser \n",
    "import os"
   ]
  },
  {
   "cell_type": "markdown",
   "metadata": {},
   "source": [
    "### input and output control"
   ]
  },
  {
   "cell_type": "code",
   "execution_count": null,
   "metadata": {},
   "outputs": [],
   "source": [
    "# input from txt_to_python's matrix\n",
    "output_path = \"G:\\\\519(706)\\\\519_vent_150mmfan\\\\706_vent_v9\\\\706_vent_v9_150mmfan_result\\\\\"\n",
    "title = \"519-vent-v9-pp1-150mmfan-3900RPM\""
   ]
  },
  {
   "cell_type": "markdown",
   "metadata": {},
   "source": [
    "## process data to html format"
   ]
  },
  {
   "cell_type": "code",
   "execution_count": null,
   "metadata": {},
   "outputs": [],
   "source": [
    "align_l = '<td align=\"left\">'\n",
    "align_c = '<td align=\"center\">'"
   ]
  },
  {
   "cell_type": "code",
   "execution_count": null,
   "metadata": {},
   "outputs": [],
   "source": [
    "def get_volume_table(matrix):\n",
    "    volume_table = \"\"\"\n",
    "    <table width=\"500\" border=\"2\">\n",
    "    <tr>\n",
    "    <th align=\"left\">Volume Flow Rate</th>\n",
    "    <th align=\"center\">(L/S)</th>\n",
    "    <th align=\"center\">Percentage%</th>\n",
    "    </tr>\"\"\"\n",
    "    for i in range(len(matrix[0])):\n",
    "        volume_table = volume_table + '\\n<tr>' +\\\n",
    "        '\\n'+ align_l+ matrix[0][i]+'</td>'+\\\n",
    "        '\\n'+ align_l+ matrix[1][i]+'</td>'+\\\n",
    "        '\\n'+ align_l+ matrix[2][i]+'</td>'+\\\n",
    "        '\\n</tr>'\n",
    "    volume_table = volume_table + '\\n</table>'\n",
    "    return volume_table"
   ]
  },
  {
   "cell_type": "code",
   "execution_count": null,
   "metadata": {},
   "outputs": [],
   "source": [
    "def get_sp_table(matrix):\n",
    "    sp_table = \"\"\"\n",
    "    <table width=\"300\" border=\"2\">\n",
    "    <tr>\n",
    "    <th align=\"left\">Static Pressure</th>\n",
    "    <th align=\"center\">(Pa)</th>\n",
    "    </tr>\"\"\"\n",
    "    for i in range(len(matrix[3])):\n",
    "        sp_table = sp_table + '\\n<tr>' +\\\n",
    "        '\\n'+ align_l+ matrix[3][i]+'</td>'+\\\n",
    "        '\\n'+ align_l+ matrix[4][i]+'</td>'+\\\n",
    "        '\\n</tr>'\n",
    "    sp_table = sp_table + '\\n</table>'\n",
    "    return sp_table"
   ]
  },
  {
   "cell_type": "code",
   "execution_count": null,
   "metadata": {},
   "outputs": [],
   "source": [
    "def get_tp_table(matrix):\n",
    "    tp_table = \"\"\"\n",
    "    <table width=\"250\" border=\"2\">\n",
    "    <tr>\n",
    "    <th align=\"left\">Total Pressure</th>\n",
    "    <th align=\"center\">(Pa)</th>\n",
    "    </tr>\"\"\"\n",
    "    for i in range(len(matrix[5])):\n",
    "        tp_table = tp_table + '\\n<tr>' +\\\n",
    "        '\\n'+ align_l+ matrix[5][i]+'</td>'+\\\n",
    "        '\\n'+ align_l+ matrix[6][i]+'</td>'+\\\n",
    "        '\\n</tr>'\n",
    "    tp_table = tp_table + '\\n</table>'\n",
    "    return tp_table"
   ]
  },
  {
   "cell_type": "code",
   "execution_count": null,
   "metadata": {},
   "outputs": [],
   "source": [
    "def get_uni_table(matrix):\n",
    "    uni_table = \"\"\"\n",
    "    <table width=\"200\" border=\"2\">\n",
    "    <tr>\n",
    "    <th align=\"left\">Uniformity</th>\n",
    "    <th align=\"center\"></th>\n",
    "    </tr>\"\"\"\n",
    "    for i in range(len(matrix[7])):\n",
    "        uni_table = uni_table + '\\n<tr>' +\\\n",
    "        '\\n'+ align_l+ matrix[7][i]+'</td>'+\\\n",
    "        '\\n'+ align_l+ matrix[8][i]+'</td>'+\\\n",
    "        '\\n</tr>'\n",
    "    uni_table = uni_table + '\\n</table>'\n",
    "    return uni_table"
   ]
  },
  {
   "cell_type": "code",
   "execution_count": null,
   "metadata": {},
   "outputs": [],
   "source": [
    "def get_moment_table(matrix):\n",
    "    moment_table = \"\"\"\n",
    "    <table width=\"100\" border=\"2\">\n",
    "    <tr>\n",
    "    <th align=\"left\">Torque(N/M)</th>\n",
    "    </tr>\"\"\"\n",
    "    for i in range(len(matrix[9])):\n",
    "        moment_table = moment_table + '\\n<tr>' +\\\n",
    "        '\\n'+ align_l+ matrix[9][i]+'</td>'+\\\n",
    "        '\\n</tr>'\n",
    "    moment_table = moment_table + '\\n</table>'\n",
    "    return moment_table"
   ]
  },
  {
   "cell_type": "code",
   "execution_count": null,
   "metadata": {},
   "outputs": [],
   "source": [
    "volume_table = get_volume_table(matrix)\n",
    "sp_table = get_sp_table(matrix)\n",
    "tp_table = get_tp_table(matrix)\n",
    "uni_table = get_uni_table(matrix)\n",
    "moment_table = get_moment_table(matrix)"
   ]
  },
  {
   "cell_type": "markdown",
   "metadata": {},
   "source": [
    "## output to HTML"
   ]
  },
  {
   "cell_type": "code",
   "execution_count": 12,
   "metadata": {},
   "outputs": [
    {
     "name": "stdout",
     "output_type": "stream",
     "text": [
      "G:\\519(706)\\519_vent_150mmfan\\706-vent-v11\\result\n"
     ]
    }
   ],
   "source": [
    "os.getcwd()\n",
    "os.chdir('G:\\\\519(706)\\\\519_vent_150mmfan\\\\706-vent-v11\\\\result')\n",
    "mydir=os.getcwd()\n",
    "print(mydir)\n",
    "ResultHtml='title' + \".html\"     # should + output_path + title\n",
    "report = open(ResultHtml,'w')"
   ]
  },
  {
   "cell_type": "code",
   "execution_count": null,
   "metadata": {},
   "outputs": [],
   "source": [
    "message = \"\"\"\n",
    "<html>\n",
    "<head>\n",
    "    <div style=\"background-color:#00008B;width:1500px;height:220px\">\n",
    "    \n",
    "        \n",
    "        <font color=\"#FFFAFA\">\n",
    "        <font size=\"6\">%s</font>  \n",
    "        <p>File Location: %s</p>\n",
    "        <p>Author: Zonghui.Jin</p>\n",
    "        </font>\n",
    "        <img src=\"C:\\\\Users\\\\BZMBN4\\\\Desktop\\\\sdaac_icon.jpg\"/ align=\"right\" align=\"top\">\n",
    "    </div>\n",
    "</head>\n",
    "\n",
    "<body>\n",
    "<body bgcolor=\"#E1FFFF\">\n",
    "<p>------------------------------------------------ </P>\n",
    "<font size=\"4\">Volume Flow Rate</font>\n",
    "\t<p>%s</p>\n",
    "\t<p>------------------------------------------------ </P>\n",
    "<font size=\"4\">Static Pressure</font>\n",
    "\t<p>%s</p>\n",
    "<p>------------------------------------------------ </P>\n",
    "<font size=\"4\">Total Pressure</font>\n",
    "\t<p>%s</p>\n",
    "<p>------------------------------------------------ </P>\n",
    "<font size=\"4\">Uniformity</font>\n",
    "    <p> %s</p>\n",
    "<p>------------------------------------------------ </P>\n",
    "<font size=\"4\">Torque</font>\n",
    "    <p> %s</p>\n",
    "<p>------------------------------------------------ </P>\n",
    "    \n",
    "    <p><font size=\"6\">Pathline_sideview</font></P>\n",
    "\t<img src=\"Pathline_sideview.jpg\" />\n",
    "     \n",
    "    <p><font size=\"6\">Pathline_upview</font><p>\n",
    "\t<img src=\"Pathline_upview.jpg\" />\n",
    "    \n",
    "    <p><font size=\"6\">Evap_out_Contour</font></P>    \n",
    "\t<img src=\"evap_out.jpg\" />\n",
    "    \n",
    "    <p><font size=\"6\">Evap_out_0-4_Contour</font></P>    \n",
    "\t<img src=\"evap_out_0-4.jpg\" />\n",
    "    \n",
    " \t<p><font size=\"6\">Filter_out_Contour</font></P>\n",
    "\t<img src=\"filter_out.jpg\" />  \n",
    "\n",
    "\t<p><font size=\"6\">Filter_out_0-4_Contour</font></P>\n",
    "\t<img src=\"filter_out_0-4.jpg\" /> \n",
    "    \n",
    "    <p> <font size=\"6\">Hc_out Contour</font></P>\n",
    "\t<img src=\"hc_out.jpg\" />\n",
    "    \n",
    "\n",
    "\t</font>\n",
    "\t</body>\n",
    "\t</html>\n",
    "\t\"\"\"%(title, mydir, volume_table, sp_table, tp_table, uni_table, moment_table)\n",
    "report.write(message)"
   ]
  },
  {
   "cell_type": "code",
   "execution_count": null,
   "metadata": {
    "scrolled": true
   },
   "outputs": [],
   "source": [
    "report.close()\n",
    "\n",
    "webbrowser.open(ResultHtml,1)"
   ]
  },
  {
   "cell_type": "markdown",
   "metadata": {},
   "source": [
    "htmlpage = report.read()\n",
    "print(htmlpage)\n",
    "#for line in htmlpage:"
   ]
  },
  {
   "cell_type": "markdown",
   "metadata": {},
   "source": [
    "from bs4 import BeautifulSoup\n",
    "htmlpage = report.read()\n",
    "soup = BeautifulSoup(htmlpage,\"lxml\")\n",
    "soup1 = soup.prettify\n",
    "soup1"
   ]
  },
  {
   "cell_type": "code",
   "execution_count": null,
   "metadata": {},
   "outputs": [],
   "source": [
    "#!jupyter nbconvert --to python python_to_html.ipynb"
   ]
  },
  {
   "cell_type": "markdown",
   "metadata": {},
   "source": [
    "import re\n",
    "withopen('1.html','r')asr:\n",
    "txt=''.join(r.readlines())\n",
    "print(txt)#你原始的html文本\n",
    "defreplace(match):\n",
    "t,s=match.group(1),match.group(1).strip()\n",
    "return'>%s<'%(t.replace(s,str(len(s)))ifselset)\n",
    "txt1=re.sub(r'>([.\\S\\s]*?)<',replace,txt)\n",
    "print(txt1)#转换后的html"
   ]
  }
 ],
 "metadata": {
  "kernelspec": {
   "display_name": "Python 3",
   "language": "python",
   "name": "python3"
  },
  "language_info": {
   "codemirror_mode": {
    "name": "ipython",
    "version": 3
   },
   "file_extension": ".py",
   "mimetype": "text/x-python",
   "name": "python",
   "nbconvert_exporter": "python",
   "pygments_lexer": "ipython3",
   "version": "3.7.3"
  }
 },
 "nbformat": 4,
 "nbformat_minor": 2
}
