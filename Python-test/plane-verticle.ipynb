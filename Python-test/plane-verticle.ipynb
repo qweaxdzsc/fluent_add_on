{
 "cells": [
  {
   "cell_type": "code",
   "execution_count": 1,
   "metadata": {},
   "outputs": [],
   "source": [
    "import numpy as np"
   ]
  },
  {
   "cell_type": "code",
   "execution_count": 29,
   "metadata": {},
   "outputs": [],
   "source": [
    "def get_nv(a, b, c):\n",
    "    ab = b-a\n",
    "    ac = c-a\n",
    "    \n",
    "    n = np.ones([2,3])\n",
    "    n[0,:] = ab\n",
    "    n[1,:] = ac\n",
    "    x1 = n[0,1]*n[1,2] - n[1,1]*n[0,2]\n",
    "    y1 = n[0,2]*n[1,0] - n[1,2]*n[0,0]\n",
    "    z1 = n[0,0]*n[1,1] - n[1,0]*n[0,1]\n",
    "    \n",
    "    nv = [x1, y1, z1]\n",
    "    return nv    "
   ]
  },
  {
   "cell_type": "code",
   "execution_count": 34,
   "metadata": {},
   "outputs": [
    {
     "data": {
      "text/plain": [
       "[1.0, 1.0, 1.0]"
      ]
     },
     "execution_count": 34,
     "metadata": {},
     "output_type": "execute_result"
    }
   ],
   "source": [
    "a = np.array([1,0,0])\n",
    "b = np.array([0,1,0])\n",
    "c = np.array([0,0,1])\n",
    "\n",
    "nv = get_nv(a, b, c)\n",
    "nv"
   ]
  },
  {
   "cell_type": "code",
   "execution_count": 36,
   "metadata": {},
   "outputs": [],
   "source": [
    "def cs_transf(nv, x, y, z):\n",
    "   pass"
   ]
  },
  {
   "cell_type": "code",
   "execution_count": 84,
   "metadata": {},
   "outputs": [
    {
     "name": "stdout",
     "output_type": "stream",
     "text": [
      "[[1.]\n",
      " [1.]\n",
      " [1.]]\n"
     ]
    },
    {
     "data": {
      "text/plain": [
       "1.7320508075688772"
      ]
     },
     "execution_count": 84,
     "metadata": {},
     "output_type": "execute_result"
    }
   ],
   "source": [
    "o_cs = np.matrix([[1.0],[1.0],[1.0]])\n",
    "print(o_cs)\n",
    "\n",
    "l_nv = np.sqrt(nv[0]**2 + nv[1]**2 + nv[2]**2)\n",
    "l_nv"
   ]
  },
  {
   "cell_type": "code",
   "execution_count": 85,
   "metadata": {},
   "outputs": [],
   "source": [
    "cosx = x/l\n",
    "sinx = np.sqrt(nv[1]**2+nv[2]**2)/l_nv\n",
    "cosy = y/l_nv\n",
    "siny = np.sqrt(nv[0]**2+nv[2]**2)/l_nv\n",
    "cosz = z/l_nv\n",
    "sinz = np.sqrt(nv[0]**2+nv[1]**2)/l_nv"
   ]
  },
  {
   "cell_type": "code",
   "execution_count": 86,
   "metadata": {
    "scrolled": true
   },
   "outputs": [
    {
     "name": "stdout",
     "output_type": "stream",
     "text": [
      "[[ 1.          0.          0.        ]\n",
      " [ 0.          0.57735027  0.81649658]\n",
      " [ 0.         -0.81649658  0.57735027]]\n",
      "[[ 0.57735027  0.         -0.81649658]\n",
      " [ 0.          1.          0.        ]\n",
      " [ 0.81649658  0.          0.57735027]]\n",
      "[[ 0.57735027  0.81649658  0.        ]\n",
      " [-0.81649658  0.57735027  0.        ]\n",
      " [ 0.          0.          1.        ]]\n"
     ]
    }
   ],
   "source": [
    "x_rotate = np.matrix([[1,0,0],[0,cosx,sinx],[0,-sinx,cosx]])\n",
    "y_rotate = np.matrix([[cosy,0,-siny],[0,1,0],[siny,0,cosy]])\n",
    "z_rotate = np.matrix([[cosz,sinz,0],[-sinz,cosz,0],[0,0,1]])\n",
    "print(x_rotate)\n",
    "print(y_rotate)\n",
    "print(z_rotate)"
   ]
  },
  {
   "cell_type": "code",
   "execution_count": 94,
   "metadata": {},
   "outputs": [
    {
     "name": "stdout",
     "output_type": "stream",
     "text": [
      "[[1.58413917]\n",
      " [0.17390246]\n",
      " [0.67842539]]\n"
     ]
    }
   ],
   "source": [
    "prime_cs = z_rotate*y_rotate*x_rotate*o_cs\n",
    "x_prime, y_prime, z_prime = prime_cs[:]\n",
    "print(prime_cs)"
   ]
  },
  {
   "cell_type": "code",
   "execution_count": 157,
   "metadata": {},
   "outputs": [],
   "source": [
    "data = np.loadtxt(r'C:\\Users\\BZMBN4\\Desktop\\GE2-17.6', delimiter=',',skiprows=2)\n",
    "x = data[:,1]\n",
    "y = data[:,2]\n",
    "z = data[:,3]\n",
    "v = data[:,4]"
   ]
  },
  {
   "cell_type": "code",
   "execution_count": 318,
   "metadata": {
    "scrolled": true
   },
   "outputs": [
    {
     "name": "stdout",
     "output_type": "stream",
     "text": [
      "[0.76557314 0.81436852 0.86316389 0.91195926 1.06075463]\n",
      "[0.64770007 0.68520007 0.72270006 0.76020005 0.89770005]\n"
     ]
    }
   ],
   "source": [
    "z_divide = np.linspace(min(z), max(z), 5, endpoint=True)\n",
    "y_divide = np.linspace(min(y), max(y), 5, endpoint=True)\n",
    "z_divide[-1] += 0.1 \n",
    "y_divide[-1] += 0.1 \n",
    "print(z_divide)\n",
    "print(y_divide)"
   ]
  },
  {
   "cell_type": "code",
   "execution_count": 319,
   "metadata": {},
   "outputs": [
    {
     "name": "stdout",
     "output_type": "stream",
     "text": [
      "1498\n",
      "1978\n",
      "1941\n",
      "1456\n"
     ]
    }
   ],
   "source": [
    "import pandas as pd\n",
    "\n",
    "gridy =[]\n",
    "for i in range(len(x_divide)-1):\n",
    "    gridy.append(data[(y >= y_divide[-(i+2)]) & (y < y_divide[-(i+1)])])\n",
    "    print(len(gridy[i]))"
   ]
  },
  {
   "cell_type": "code",
   "execution_count": 367,
   "metadata": {},
   "outputs": [
    {
     "data": {
      "text/plain": [
       "array([[1.90000000e+01, 5.29591751e+00, 7.60776222e-01, 7.65573144e-01,\n",
       "        0.00000000e+00],\n",
       "       [2.00000000e+01, 5.29591751e+00, 7.63159513e-01, 7.65573144e-01,\n",
       "        0.00000000e+00],\n",
       "       [2.10000000e+01, 5.29591751e+00, 7.65543044e-01, 7.65573144e-01,\n",
       "        0.00000000e+00],\n",
       "       ...,\n",
       "       [1.57700000e+03, 5.28839874e+00, 7.68409252e-01, 8.13045919e-01,\n",
       "        1.34368455e+00],\n",
       "       [1.58000000e+03, 5.28836679e+00, 7.63593376e-01, 8.13245833e-01,\n",
       "        1.32365930e+00],\n",
       "       [1.59700000e+03, 5.28830099e+00, 7.61506915e-01, 8.13661993e-01,\n",
       "        1.31129241e+00]])"
      ]
     },
     "execution_count": 367,
     "metadata": {},
     "output_type": "execute_result"
    }
   ],
   "source": [
    "grid = []\n",
    "avg_grid = np.ones([4,4])\n",
    "number = np.ones([4,4])\n",
    "vmax = np.ones([4,4])\n",
    "vmin = np.ones([4,4])\n",
    "zone_number = np.linspace(1,16,16)\n",
    "zone_number = zone_number.reshape(4,4)\n",
    "j = 0\n",
    "for row in gridy:\n",
    "    for i in range(len(z_divide)-1):        \n",
    "        cell = row[(row[:,3]>=z_divide[i]) & (row[:,3] < z_divide[i+1])]\n",
    "        grid.append(cell)\n",
    "        avg_grid[j, i] = np.mean(cell[:,4])\n",
    "        number[j, i] = len(cell[:,1])\n",
    "        vmax[j, i] = max(cell[:,4])\n",
    "        vmin[j, i] = min(cell[:,4])\n",
    "    j += 1\n",
    "grid = np.reshape(grid, [4,4])\n",
    "grid[0,0]"
   ]
  },
  {
   "cell_type": "code",
   "execution_count": 368,
   "metadata": {},
   "outputs": [
    {
     "name": "stdout",
     "output_type": "stream",
     "text": [
      "v_grid:\n",
      " [[1.33203121 1.28981434 1.42167348 1.29713952]\n",
      " [1.19591927 1.16016655 1.22656303 1.16294695]\n",
      " [0.98962555 1.10013083 1.20045936 1.06737435]\n",
      " [0.93109469 1.03572915 1.27490416 1.05455427]]\n",
      "cell_number:\n",
      "  [[348. 278. 276. 596.]\n",
      " [480. 400. 411. 687.]\n",
      " [464. 396. 385. 696.]\n",
      " [315. 267. 269. 605.]]\n",
      "maxium velocity:\n",
      " [[1.97166526 1.44234371 1.6915195  1.78912997]\n",
      " [2.24448967 1.44357419 1.56255078 1.6601609 ]\n",
      " [2.35577369 1.49185634 1.51113546 1.51158094]\n",
      " [1.36321271 1.23455536 1.43770206 1.43203855]]\n",
      "minium velocity:\n",
      "  [[0. 0. 0. 0.]\n",
      " [0. 0. 0. 0.]\n",
      " [0. 0. 0. 0.]\n",
      " [0. 0. 0. 0.]]\n"
     ]
    }
   ],
   "source": [
    "print('v_grid:\\n', avg_grid)\n",
    "print('cell_number:\\n ', number)\n",
    "print('maxium velocity:\\n', vmax)\n",
    "print('minium velocity:\\n ', vmin)"
   ]
  },
  {
   "cell_type": "code",
   "execution_count": 386,
   "metadata": {},
   "outputs": [
    {
     "name": "stdout",
     "output_type": "stream",
     "text": [
      "WARNING zone02, speed:1.4216734827282609, zone13,speed:1.1629469473544396. Difference%:0.2224749254146048 \n",
      "WARNING zone02, speed:1.4216734827282609, zone11,speed:1.160166549375. Difference%:0.22540464857751571 \n",
      "WARNING zone10, speed:1.1959192723104166, zone20,speed:0.9896255520967673. Difference%:0.20845633964944105 \n",
      "WARNING zone31, speed:1.0357291544558052, zone32,speed:1.2749041593791823. Difference%:0.23092427580552657 \n",
      "WARNING zone32, speed:1.2749041593791823, zone33,speed:1.0545542675596693. Difference%:0.20895073738539974 \n"
     ]
    }
   ],
   "source": [
    "show_box = np.zeros([4,4])\n",
    "for i in range(len(avg_grid[1,:])):\n",
    "    for j in range(len(avg_grid[:,1])):\n",
    "        # row compare\n",
    "        if j < 3:\n",
    "            dif = avg_grid[i,j+1]-avg_grid[i,j]\n",
    "            #print('difference:', dif)\n",
    "            if dif >=0:\n",
    "                perct = dif/avg_grid[i,j]\n",
    "            else:\n",
    "                perct = abs(dif/avg_grid[i,j+1])\n",
    "            #print('percentage:',perct)\n",
    "            if perct > 0.2:\n",
    "                show_box[i, j] += 1\n",
    "                show_box[i, j+1] += 1\n",
    "                print('WARNING zone%s%s, speed:%s, zone%s%s,speed:%s. Difference%%:%s '\\\n",
    "                      %(i, j, avg_grid[i,j], i, j+1, avg_grid[i, j+1], perct )) \n",
    "        # col compare\n",
    "        if i < 3:\n",
    "            dif = avg_grid[i+1,j]-avg_grid[i,j]\n",
    "            #print('difference:', dif)\n",
    "            if dif >=0:\n",
    "                perct = dif/avg_grid[i,j]\n",
    "            else:\n",
    "                perct = abs(dif/avg_grid[i+1,j])\n",
    "            #print('percentage:',perct)\n",
    "            if perct > 0.2:\n",
    "                show_box[i, j] += 1\n",
    "                show_box[i+1, j] += 1\n",
    "                print('WARNING zone%s%s, speed:%s, zone%s%s,speed:%s. Difference%%:%s '\\\n",
    "                      %(i, j, avg_grid[i,j], i+1, j, avg_grid[i+1, j], perct )) \n",
    "        # prime-diag compare\n",
    "        if i < 3 and j < 3:\n",
    "            dif = avg_grid[i+1,j+1]-avg_grid[i,j]\n",
    "            #print('difference:', dif)\n",
    "            if dif >=0:\n",
    "                perct = dif/avg_grid[i,j]\n",
    "            else:\n",
    "                perct = abs(dif/avg_grid[i+1,j+1])\n",
    "            #print('percentage:',perct)\n",
    "            if perct > 0.2:\n",
    "                show_box[i, j] += 1\n",
    "                show_box[i+1, j+1] += 1\n",
    "                print('WARNING zone%s%s, speed:%s, zone%s%s,speed:%s. Difference%%:%s '\\\n",
    "                      %(i, j, avg_grid[i,j], i+1, j+1, avg_grid[i+1, j+1], perct )) \n",
    "        # vice-diag compare\n",
    "        if i < 3 and j > 0:\n",
    "            dif = avg_grid[i+1,j-1]-avg_grid[i,j]\n",
    "            #print('difference:', dif)\n",
    "            if dif >=0:\n",
    "                perct = dif/avg_grid[i,j]\n",
    "            else:\n",
    "                perct = abs(dif/avg_grid[i+1,j-1])\n",
    "            #print('percentage:',perct)\n",
    "            if perct > 0.2:\n",
    "                show_box[i, j] += 1\n",
    "                show_box[i+1, j-1] += 1\n",
    "                print('WARNING zone%s%s, speed:%s, zone%s%s,speed:%s. Difference%%:%s '\\\n",
    "                      %(i, j, avg_grid[i,j], i+1, j-1, avg_grid[i+1, j-1], perct )) "
   ]
  },
  {
   "cell_type": "code",
   "execution_count": 369,
   "metadata": {},
   "outputs": [
    {
     "name": "stdout",
     "output_type": "stream",
     "text": [
      "1.3320312137068966\n",
      "1.2898143423021582\n",
      "1.4216734827282609\n",
      "1.1959192723104166\n",
      "1.160166549375\n",
      "1.2265630319221412\n",
      "0.9896255520967673\n",
      "1.100130832227273\n",
      "1.2004593644857142\n"
     ]
    }
   ],
   "source": [
    "for i in range(len(avg_grid[1,:])-1):\n",
    "    for j in range(len(avg_grid[:,1])-1):\n",
    "        print(avg_grid[i,j])"
   ]
  },
  {
   "cell_type": "code",
   "execution_count": 400,
   "metadata": {},
   "outputs": [
    {
     "name": "stdout",
     "output_type": "stream",
     "text": [
      "[[1.33203121 1.28981434 1.42167348 1.29713952]\n",
      " [1.19591927 1.16016655 1.22656303 1.16294695]\n",
      " [0.98962555 1.10013083 1.20045936 1.06737435]\n",
      " [0.93109469 1.03572915 1.27490416 1.05455427]]\n"
     ]
    },
    {
     "data": {
      "text/plain": [
       "array([[0., 0., 0., 0., 0., 0., 0.],\n",
       "       [0., 0., 0., 0., 0., 0., 0.],\n",
       "       [0., 0., 0., 0., 0., 0., 0.],\n",
       "       [0., 0., 0., 0., 0., 0., 0.],\n",
       "       [0., 0., 0., 0., 0., 0., 0.],\n",
       "       [0., 0., 0., 0., 0., 0., 0.],\n",
       "       [0., 0., 0., 0., 0., 0., 0.]])"
      ]
     },
     "execution_count": 400,
     "metadata": {},
     "output_type": "execute_result"
    }
   ],
   "source": [
    "print(avg_grid)\n",
    "visual_box = np.zeros([7,7])\n",
    "visual_box"
   ]
  },
  {
   "cell_type": "code",
   "execution_count": 411,
   "metadata": {},
   "outputs": [
    {
     "data": {
      "text/plain": [
       "array([[1.33203121, 0.        , 1.28981434, 0.        , 1.42167348,\n",
       "        0.        , 1.29713952],\n",
       "       [0.        , 0.        , 0.        , 0.        , 0.        ,\n",
       "        0.        , 0.        ],\n",
       "       [1.19591927, 0.        , 1.16016655, 0.        , 1.22656303,\n",
       "        0.        , 1.16294695],\n",
       "       [0.        , 0.        , 0.        , 0.        , 0.        ,\n",
       "        0.        , 0.        ],\n",
       "       [0.98962555, 0.        , 1.10013083, 0.        , 1.20045936,\n",
       "        0.        , 1.06737435],\n",
       "       [0.        , 0.        , 0.        , 0.        , 0.        ,\n",
       "        0.        , 0.        ],\n",
       "       [0.93109469, 0.        , 1.03572915, 0.        , 1.27490416,\n",
       "        0.        , 1.05455427]])"
      ]
     },
     "execution_count": 411,
     "metadata": {},
     "output_type": "execute_result"
    }
   ],
   "source": [
    "visual_box[::2,::2] = avg_grid[:,:]\n",
    "visual_box"
   ]
  },
  {
   "cell_type": "code",
   "execution_count": 428,
   "metadata": {},
   "outputs": [
    {
     "data": {
      "text/plain": [
       "array([['1.3320312137068966', '0.0', '1.2898143423021582', '0.0',\n",
       "        '1.4216734827282609', '0.0', '1.2971395216255033'],\n",
       "       ['|', '0.0', '0.0', '0.0', '0.0', '0.0', '0.0'],\n",
       "       ['1.1959192723104166', '0.0', '1.160166549375', '0.0',\n",
       "        '1.2265630319221412', '0.0', '1.1629469473544396'],\n",
       "       ['0.0', '0.0', '0.0', '0.0', '0.0', '0.0', '0.0'],\n",
       "       ['0.9896255520967673', '0.0', '1.100130832227273', '0.0',\n",
       "        '1.2004593644857142', '0.0', '1.06737434726523'],\n",
       "       ['0.0', '0.0', '0.0', '0.0', '0.0', '0.0', '0.0'],\n",
       "       ['0.9310946888314285', '0.0', '1.0357291544558052', '0.0',\n",
       "        '1.2749041593791823', '0.0', '1.0545542675596693']], dtype='<U32')"
      ]
     },
     "execution_count": 428,
     "metadata": {},
     "output_type": "execute_result"
    }
   ],
   "source": [
    "visual_box[1,0] = -1\n",
    "\n",
    "visual_str = visual_box.astype(str)\n",
    "visual_str[visual_str == '-1.0'] = '|'\n",
    "visual_str"
   ]
  },
  {
   "cell_type": "code",
   "execution_count": 443,
   "metadata": {},
   "outputs": [
    {
     "data": {
      "text/plain": [
       "[array([0., 0., 0., 0.]),\n",
       " array([0., 0., 0., 0.]),\n",
       " array([0., 0., 0., 0.]),\n",
       " array([0., 0., 0., 0.])]"
      ]
     },
     "execution_count": 443,
     "metadata": {},
     "output_type": "execute_result"
    }
   ],
   "source": [
    "star = np.zeros([4, 4])\n",
    "list(star)"
   ]
  },
  {
   "cell_type": "code",
   "execution_count": 446,
   "metadata": {},
   "outputs": [
    {
     "data": {
      "text/plain": [
       "[[0, 0, 0, 0], [0, 0, 0, 0], [0, 0, 0, 0], [0, 0, 0, 0]]"
      ]
     },
     "execution_count": 446,
     "metadata": {},
     "output_type": "execute_result"
    }
   ],
   "source": [
    "test = [[0 for i in range(4)] for j in range(4)]\n",
    "test"
   ]
  },
  {
   "cell_type": "code",
   "execution_count": 10,
   "metadata": {},
   "outputs": [
    {
     "name": "stdout",
     "output_type": "stream",
     "text": [
      "no\n"
     ]
    }
   ],
   "source": [
    "a = 0\n",
    "if a:\n",
    "    print('yes')\n",
    "else:\n",
    "    print('no')"
   ]
  },
  {
   "cell_type": "code",
   "execution_count": null,
   "metadata": {},
   "outputs": [],
   "source": []
  }
 ],
 "metadata": {
  "kernelspec": {
   "display_name": "Python 3",
   "language": "python",
   "name": "python3"
  },
  "language_info": {
   "codemirror_mode": {
    "name": "ipython",
    "version": 3
   },
   "file_extension": ".py",
   "mimetype": "text/x-python",
   "name": "python",
   "nbconvert_exporter": "python",
   "pygments_lexer": "ipython3",
   "version": "3.7.3"
  }
 },
 "nbformat": 4,
 "nbformat_minor": 2
}
