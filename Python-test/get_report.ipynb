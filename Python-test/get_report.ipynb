{
 "cells": [
  {
   "cell_type": "markdown",
   "metadata": {},
   "source": [
    "# Txt to Excel and Html"
   ]
  },
  {
   "cell_type": "markdown",
   "metadata": {},
   "source": [
    "### Globalize variable"
   ]
  },
  {
   "cell_type": "code",
   "execution_count": 17,
   "metadata": {},
   "outputs": [],
   "source": [
    "global txt_name"
   ]
  },
  {
   "cell_type": "markdown",
   "metadata": {},
   "source": [
    "## Txt input"
   ]
  },
  {
   "cell_type": "code",
   "execution_count": 18,
   "metadata": {},
   "outputs": [],
   "source": [
    "txt_name =\"G:\\\\519(706)\\\\519_vent_150mmfan\\\\706_vent_v9\\\\706_vent_v9_150mmfan_result\\\\519-vent.txt\""
   ]
  },
  {
   "cell_type": "markdown",
   "metadata": {},
   "source": [
    "## Excel output"
   ]
  },
  {
   "cell_type": "code",
   "execution_count": 19,
   "metadata": {},
   "outputs": [],
   "source": [
    "excel_name = '706-vent-v8-pp1-150mmfan'                  #Output excel name\n",
    "sheet_name = \"test1\"                                  #The sheet in excel\n",
    "output_path = \"G:\\\\519(706)\\\\519_vent_150mmfan\\\\706_vent_v9\\\\706_vent_v9_150mmfan_result\\\\\"+ excel_name + \".xlsx\"    # excel output path\n",
    "data_name = '706-vent-v8-pp1-150mmfan'         #get a title for your data"
   ]
  },
  {
   "cell_type": "markdown",
   "metadata": {},
   "source": [
    "## Html output"
   ]
  },
  {
   "cell_type": "code",
   "execution_count": 20,
   "metadata": {},
   "outputs": [],
   "source": [
    "output_path = \"G:\\\\519(706)\\\\519_vent_150mmfan\\\\706_vent_v9\\\\706_vent_v9_150mmfan_result\\\\\"\n",
    "title = \"519-vent-v9-pp1-150mmfan-3900RPM\""
   ]
  },
  {
   "cell_type": "code",
   "execution_count": 21,
   "metadata": {},
   "outputs": [
    {
     "name": "stderr",
     "output_type": "stream",
     "text": [
      "[NbConvertApp] Converting notebook get_report.ipynb to python\n",
      "[NbConvertApp] Writing 904 bytes to get_report.py\n"
     ]
    }
   ],
   "source": [
    "!jupyter nbconvert --to python get_report.ipynb"
   ]
  },
  {
   "cell_type": "code",
   "execution_count": null,
   "metadata": {},
   "outputs": [],
   "source": []
  },
  {
   "cell_type": "code",
   "execution_count": null,
   "metadata": {},
   "outputs": [],
   "source": []
  },
  {
   "cell_type": "code",
   "execution_count": null,
   "metadata": {},
   "outputs": [],
   "source": []
  }
 ],
 "metadata": {
  "kernelspec": {
   "display_name": "Python 3",
   "language": "python",
   "name": "python3"
  },
  "language_info": {
   "codemirror_mode": {
    "name": "ipython",
    "version": 3
   },
   "file_extension": ".py",
   "mimetype": "text/x-python",
   "name": "python",
   "nbconvert_exporter": "python",
   "pygments_lexer": "ipython3",
   "version": "3.7.3"
  }
 },
 "nbformat": 4,
 "nbformat_minor": 2
}
