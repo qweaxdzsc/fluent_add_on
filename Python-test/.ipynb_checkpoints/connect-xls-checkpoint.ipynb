{
 "cells": [
  {
   "cell_type": "markdown",
   "metadata": {},
   "source": [
    "# TXT to XLS"
   ]
  },
  {
   "cell_type": "markdown",
   "metadata": {},
   "source": [
    "### import"
   ]
  },
  {
   "cell_type": "code",
   "execution_count": 594,
   "metadata": {},
   "outputs": [],
   "source": [
    "import numpy as np\n",
    "import xlwt\n",
    "import xlrd\n",
    "import xlsxwriter\n",
    "import os"
   ]
  },
  {
   "cell_type": "markdown",
   "metadata": {},
   "source": [
    "### txt file import function"
   ]
  },
  {
   "cell_type": "code",
   "execution_count": 595,
   "metadata": {},
   "outputs": [],
   "source": [
    "def txt_in(filename):\n",
    "    f = open(filename)\n",
    "    lines = f.readlines()\n",
    "    \n",
    "    return lines"
   ]
  },
  {
   "cell_type": "code",
   "execution_count": 596,
   "metadata": {},
   "outputs": [
    {
     "name": "stdout",
     "output_type": "stream",
     "text": [
      "15\n",
      "['                         \"Surface Integral Report\"\\n', '\\n', '            Volumetric Flow Rate               (m3/s)\\n', '-------------------------------- --------------------\\n', '                           inlet           0.11233859\\n', '                  outlet_defrost         -0.064227019\\n', '                      outlet_rfl         -0.006196337\\n', '                      outlet_rfr        -0.0063777246\\n', '                      outlet_ffl         -0.016774527\\n', '                      outlet_ffr         -0.016722231\\n', '                     outlet_vent        -0.0020425271\\n', '                ---------------- --------------------\\n', '                             Net       -1.7768809e-06\\n', '\\n', '                  Mass Flow Rate               (kg/s)\\n']\n"
     ]
    }
   ],
   "source": [
    "filename =\"519-vent.txt\"\n",
    "txt = txt_in(filename)\n",
    "print(row_number)\n",
    "print(txt[0:15])"
   ]
  },
  {
   "cell_type": "markdown",
   "metadata": {},
   "source": [
    "### Breakdown the txt"
   ]
  },
  {
   "cell_type": "code",
   "execution_count": 597,
   "metadata": {},
   "outputs": [
    {
     "name": "stdout",
     "output_type": "stream",
     "text": [
      "[['\"Surface', 'Integral', 'Report\"'], [], ['Volumetric', 'Flow', 'Rate', '(m3/s)'], ['--------------------------------', '--------------------'], ['inlet', '0.11233859'], ['outlet_defrost', '-0.064227019'], ['outlet_rfl', '-0.006196337'], ['outlet_rfr', '-0.0063777246'], ['outlet_ffl', '-0.016774527'], ['outlet_ffr', '-0.016722231'], ['outlet_vent', '-0.0020425271'], ['----------------', '--------------------'], ['Net', '-1.7768809e-06'], [], ['Mass', 'Flow', 'Rate', '(kg/s)']]\n"
     ]
    }
   ],
   "source": [
    "txt = txt[:15]\n",
    "row_number = len(txt)\n",
    "for i in range(row_number):\n",
    "    txt[i] = txt[i].strip()\n",
    "    txt[i] = txt[i].split()\n",
    "print(txt)"
   ]
  },
  {
   "cell_type": "markdown",
   "metadata": {},
   "source": [
    "### write excel"
   ]
  },
  {
   "cell_type": "code",
   "execution_count": 598,
   "metadata": {},
   "outputs": [],
   "source": [
    "def write_excel(martrix, excel_name):\n",
    "    \n",
    "    workbook = xlwt.Workbook(excel_name)\n",
    "    sheet = workbook.add_sheet('test1')\n",
    "    for i in range(len(martrix)):\n",
    "        for j in range(len(txt[i])):\n",
    "            sheet.write(i,  j, txt[i][j])\n",
    "    \n",
    "    workbook.save(excel_name)\n",
    "    print(excel_name)"
   ]
  },
  {
   "cell_type": "code",
   "execution_count": 599,
   "metadata": {},
   "outputs": [
    {
     "name": "stdout",
     "output_type": "stream",
     "text": [
      "test.xls\n"
     ]
    }
   ],
   "source": [
    "write_excel(txt,'test.xls')"
   ]
  },
  {
   "cell_type": "code",
   "execution_count": 600,
   "metadata": {},
   "outputs": [
    {
     "data": {
      "text/plain": [
       "[['\"Surface', 'Integral', 'Report\"'],\n",
       " [],\n",
       " ['Volumetric', 'Flow', 'Rate', '(m3/s)'],\n",
       " ['--------------------------------', '--------------------'],\n",
       " ['inlet', '0.11233859'],\n",
       " ['outlet_defrost', '-0.064227019'],\n",
       " ['outlet_rfl', '-0.006196337'],\n",
       " ['outlet_rfr', '-0.0063777246'],\n",
       " ['outlet_ffl', '-0.016774527'],\n",
       " ['outlet_ffr', '-0.016722231'],\n",
       " ['outlet_vent', '-0.0020425271'],\n",
       " ['----------------', '--------------------'],\n",
       " ['Net', '-1.7768809e-06'],\n",
       " [],\n",
       " ['Mass', 'Flow', 'Rate', '(kg/s)']]"
      ]
     },
     "execution_count": 600,
     "metadata": {},
     "output_type": "execute_result"
    }
   ],
   "source": [
    "txt"
   ]
  },
  {
   "cell_type": "code",
   "execution_count": 601,
   "metadata": {},
   "outputs": [],
   "source": [
    "def rearrange(txt, part_name):\n",
    "    divide_sign = []\n",
    "    for line in txt:\n",
    "        if part_name in line:\n",
    "            title_index = txt.index(line)\n",
    "            title_line = txt[title_index]\n",
    "            print(txt[title_index])\n",
    "    txt_down = txt[title_index:]\n",
    "    for line in txt_down:\n",
    "        print(line)\n",
    "        if '--' in line[1]:\n",
    "            print(line[0])\n",
    "            divide_sign.append(txt_down.index(line)) \n",
    "            print(divide_sign)    \n",
    "        if len(divide_sign) > 1:\n",
    "            break \n",
    "    txt_taget = txt_down[divide_sign[0]+1:divide_sign[-1]-1]\n",
    "    \n",
    "    \n",
    "    \n",
    "    return title_line,txt_taget"
   ]
  },
  {
   "cell_type": "code",
   "execution_count": 602,
   "metadata": {},
   "outputs": [
    {
     "name": "stdout",
     "output_type": "stream",
     "text": [
      "['Volumetric', 'Flow', 'Rate', '(m3/s)']\n",
      "['Volumetric', 'Flow', 'Rate', '(m3/s)']\n",
      "['--------------------------------', '--------------------']\n",
      "--------------------------------\n",
      "[1]\n",
      "['inlet', '0.11233859']\n",
      "['outlet_defrost', '-0.064227019']\n",
      "['outlet_rfl', '-0.006196337']\n",
      "['outlet_rfr', '-0.0063777246']\n",
      "['outlet_ffl', '-0.016774527']\n",
      "['outlet_ffr', '-0.016722231']\n",
      "['outlet_vent', '-0.0020425271']\n",
      "['----------------', '--------------------']\n",
      "----------------\n",
      "[1, 9]\n"
     ]
    }
   ],
   "source": [
    "title_line, txt_taget = rearrange(txt, 'Volumetric')"
   ]
  },
  {
   "cell_type": "code",
   "execution_count": 603,
   "metadata": {},
   "outputs": [
    {
     "name": "stdout",
     "output_type": "stream",
     "text": [
      "['0.11233859' '-0.064227019' '-0.006196337' '-0.0063777246' '-0.016774527'\n",
      " '-0.016722231']\n"
     ]
    }
   ],
   "source": [
    "txt_taget = np.array(txt_taget)\n",
    "txt_taget_string = txt_taget[:,0]\n",
    "txt_taget_data = txt_taget[:,1]\n",
    "\n",
    "print(txt_taget_data)"
   ]
  },
  {
   "cell_type": "code",
   "execution_count": 604,
   "metadata": {},
   "outputs": [
    {
     "data": {
      "text/plain": [
       "'-0.064227019'"
      ]
     },
     "execution_count": 604,
     "metadata": {},
     "output_type": "execute_result"
    }
   ],
   "source": [
    "txt_taget[1][1]"
   ]
  },
  {
   "cell_type": "code",
   "execution_count": 605,
   "metadata": {},
   "outputs": [
    {
     "ename": "TypeError",
     "evalue": "'list' object is not callable",
     "output_type": "error",
     "traceback": [
      "\u001b[1;31m---------------------------------------------------------------------------\u001b[0m",
      "\u001b[1;31mTypeError\u001b[0m                                 Traceback (most recent call last)",
      "\u001b[1;32m<ipython-input-605-8e647392ebec>\u001b[0m in \u001b[0;36m<module>\u001b[1;34m\u001b[0m\n\u001b[0;32m      1\u001b[0m \u001b[0ma\u001b[0m \u001b[1;33m=\u001b[0m \u001b[1;33m[\u001b[0m\u001b[1;36m1.1\u001b[0m\u001b[1;33m,\u001b[0m\u001b[1;36m2.2\u001b[0m\u001b[1;33m,\u001b[0m\u001b[1;36m3\u001b[0m\u001b[1;33m,\u001b[0m\u001b[1;36m4\u001b[0m\u001b[1;33m,\u001b[0m\u001b[1;36m5\u001b[0m\u001b[1;33m]\u001b[0m\u001b[1;33m\u001b[0m\u001b[1;33m\u001b[0m\u001b[0m\n\u001b[0;32m      2\u001b[0m \u001b[0mx\u001b[0m\u001b[1;33m=\u001b[0m \u001b[0mmap\u001b[0m\u001b[1;33m(\u001b[0m\u001b[0mint\u001b[0m\u001b[1;33m,\u001b[0m \u001b[0ma\u001b[0m\u001b[1;33m)\u001b[0m\u001b[1;33m\u001b[0m\u001b[1;33m\u001b[0m\u001b[0m\n\u001b[1;32m----> 3\u001b[1;33m \u001b[0mprint\u001b[0m\u001b[1;33m(\u001b[0m\u001b[0mlist\u001b[0m\u001b[1;33m(\u001b[0m\u001b[0mx\u001b[0m\u001b[1;33m)\u001b[0m\u001b[1;33m)\u001b[0m\u001b[1;33m\u001b[0m\u001b[1;33m\u001b[0m\u001b[0m\n\u001b[0m",
      "\u001b[1;31mTypeError\u001b[0m: 'list' object is not callable"
     ]
    }
   ],
   "source": [
    "a = [1.1,2.2,3,4,5]\n",
    "x= map(int, a)\n",
    "print(list(x))"
   ]
  },
  {
   "cell_type": "code",
   "execution_count": 606,
   "metadata": {},
   "outputs": [
    {
     "ename": "TypeError",
     "evalue": "'list' object is not callable",
     "output_type": "error",
     "traceback": [
      "\u001b[1;31m---------------------------------------------------------------------------\u001b[0m",
      "\u001b[1;31mTypeError\u001b[0m                                 Traceback (most recent call last)",
      "\u001b[1;32m<ipython-input-606-11dfbb1e6e79>\u001b[0m in \u001b[0;36m<module>\u001b[1;34m\u001b[0m\n\u001b[0;32m      1\u001b[0m \u001b[0mp\u001b[0m \u001b[1;33m=\u001b[0m \u001b[0mmap\u001b[0m\u001b[1;33m(\u001b[0m\u001b[1;32mlambda\u001b[0m \u001b[0mx\u001b[0m\u001b[1;33m,\u001b[0m \u001b[0my\u001b[0m\u001b[1;33m:\u001b[0m \u001b[0mx\u001b[0m \u001b[1;33m+\u001b[0m \u001b[0my\u001b[0m\u001b[1;33m,\u001b[0m \u001b[1;33m[\u001b[0m\u001b[1;36m1\u001b[0m\u001b[1;33m,\u001b[0m \u001b[1;36m3\u001b[0m\u001b[1;33m,\u001b[0m \u001b[1;36m5\u001b[0m\u001b[1;33m,\u001b[0m \u001b[1;36m7\u001b[0m\u001b[1;33m,\u001b[0m \u001b[1;36m9\u001b[0m\u001b[1;33m]\u001b[0m\u001b[1;33m,\u001b[0m \u001b[1;33m[\u001b[0m\u001b[1;36m2\u001b[0m\u001b[1;33m,\u001b[0m \u001b[1;36m4\u001b[0m\u001b[1;33m,\u001b[0m \u001b[1;36m6\u001b[0m\u001b[1;33m,\u001b[0m \u001b[1;36m8\u001b[0m\u001b[1;33m,\u001b[0m \u001b[1;36m10\u001b[0m\u001b[1;33m]\u001b[0m\u001b[1;33m)\u001b[0m\u001b[1;33m\u001b[0m\u001b[1;33m\u001b[0m\u001b[0m\n\u001b[1;32m----> 2\u001b[1;33m \u001b[0mprint\u001b[0m\u001b[1;33m(\u001b[0m\u001b[0mlist\u001b[0m\u001b[1;33m(\u001b[0m\u001b[0mp\u001b[0m\u001b[1;33m)\u001b[0m\u001b[1;33m)\u001b[0m\u001b[1;33m\u001b[0m\u001b[1;33m\u001b[0m\u001b[0m\n\u001b[0m",
      "\u001b[1;31mTypeError\u001b[0m: 'list' object is not callable"
     ]
    }
   ],
   "source": [
    "p = map(lambda x, y: x + y, [1, 3, 5, 7, 9], [2, 4, 6, 8, 10])\n",
    "print(list(p))"
   ]
  },
  {
   "cell_type": "code",
   "execution_count": null,
   "metadata": {},
   "outputs": [],
   "source": []
  },
  {
   "cell_type": "code",
   "execution_count": null,
   "metadata": {},
   "outputs": [],
   "source": []
  }
 ],
 "metadata": {
  "kernelspec": {
   "display_name": "Python 3",
   "language": "python",
   "name": "python3"
  },
  "language_info": {
   "codemirror_mode": {
    "name": "ipython",
    "version": 3
   },
   "file_extension": ".py",
   "mimetype": "text/x-python",
   "name": "python",
   "nbconvert_exporter": "python",
   "pygments_lexer": "ipython3",
   "version": "3.7.3"
  }
 },
 "nbformat": 4,
 "nbformat_minor": 2
}
