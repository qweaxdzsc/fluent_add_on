{
 "cells": [
  {
   "cell_type": "markdown",
   "metadata": {},
   "source": [
    "# TXT to XLS"
   ]
  },
  {
   "cell_type": "markdown",
   "metadata": {},
   "source": [
    "### import"
   ]
  },
  {
   "cell_type": "code",
   "execution_count": 192,
   "metadata": {},
   "outputs": [],
   "source": [
    "import numpy as np\n",
    "import xlwt\n",
    "import xlrd\n",
    "import xlsxwriter\n",
    "import os"
   ]
  },
  {
   "cell_type": "markdown",
   "metadata": {},
   "source": [
    "### txt file import function"
   ]
  },
  {
   "cell_type": "code",
   "execution_count": 193,
   "metadata": {},
   "outputs": [],
   "source": [
    "def txt_in(filename):\n",
    "    f = open(filename)\n",
    "    lines = f.readlines()\n",
    "    \n",
    "    return lines"
   ]
  },
  {
   "cell_type": "code",
   "execution_count": 194,
   "metadata": {},
   "outputs": [
    {
     "name": "stdout",
     "output_type": "stream",
     "text": [
      "['                         \"Surface Integral Report\"\\n', '\\n', '            Volumetric Flow Rate               (m3/s)\\n', '-------------------------------- --------------------\\n', '                           inlet           0.11233859\\n', '                  outlet_defrost         -0.064227019\\n', '                      outlet_rfl         -0.006196337\\n', '                      outlet_rfr        -0.0063777246\\n', '                      outlet_ffl         -0.016774527\\n', '                      outlet_ffr         -0.016722231\\n', '                     outlet_vent        -0.0020425271\\n', '                ---------------- --------------------\\n', '                             Net       -1.7768809e-06\\n', '\\n', '                  Mass Flow Rate               (kg/s)\\n']\n"
     ]
    }
   ],
   "source": [
    "filename =\"519-vent.txt\"\n",
    "txt = txt_in(filename)\n",
    "print(txt[0:15])"
   ]
  },
  {
   "cell_type": "markdown",
   "metadata": {},
   "source": [
    "### Breakdown the txt"
   ]
  },
  {
   "cell_type": "code",
   "execution_count": 195,
   "metadata": {},
   "outputs": [],
   "source": [
    "row_number = len(txt)\n",
    "for i in range(row_number):\n",
    "    txt[i] = txt[i].strip()\n",
    "    txt[i] = txt[i].split()"
   ]
  },
  {
   "cell_type": "markdown",
   "metadata": {},
   "source": [
    "### write excel funtion"
   ]
  },
  {
   "cell_type": "code",
   "execution_count": 203,
   "metadata": {},
   "outputs": [
    {
     "data": {
      "text/plain": [
       "[['\"Surface', 'Integral', 'Report\"'],\n",
       " [],\n",
       " ['Volumetric', 'Flow', 'Rate', '(m3/s)'],\n",
       " ['--------------------------------', '--------------------'],\n",
       " ['inlet', '0.11233859'],\n",
       " ['outlet_defrost', '-0.064227019'],\n",
       " ['outlet_rfl', '-0.006196337'],\n",
       " ['outlet_rfr', '-0.0063777246'],\n",
       " ['outlet_ffl', '-0.016774527'],\n",
       " ['outlet_ffr', '-0.016722231'],\n",
       " ['outlet_vent', '-0.0020425271'],\n",
       " ['----------------', '--------------------'],\n",
       " ['Net', '-1.7768809e-06'],\n",
       " [],\n",
       " ['Mass', 'Flow', 'Rate', '(kg/s)'],\n",
       " ['--------------------------------', '--------------------'],\n",
       " ['inlet', '0.13761483'],\n",
       " ['outlet_defrost', '-0.078678094'],\n",
       " ['outlet_ffl', '-0.020548796'],\n",
       " ['outlet_ffr', '-0.020484734'],\n",
       " ['outlet_rfl', '-0.0075905127'],\n",
       " ['outlet_rfr', '-0.0078127123'],\n",
       " ['outlet_vent', '-0.0025020952'],\n",
       " ['----------------', '--------------------'],\n",
       " ['Net', '-2.1134038e-06'],\n",
       " [],\n",
       " ['Uniformity', 'Index', 'Area-Wt.'],\n",
       " ['Velocity', 'Magnitude'],\n",
       " ['--------------------------------', '--------------------'],\n",
       " ['evap_in', '0.89884776'],\n",
       " ['evap_out', '0.89784792'],\n",
       " ['filter_out', '0.90900547'],\n",
       " ['hc_out', '0.95246826'],\n",
       " ['----------------', '--------------------'],\n",
       " ['Net', '0.86388828'],\n",
       " [],\n",
       " ['Area-Weighted', 'Average'],\n",
       " ['Total', 'Pressure', '(pascal)'],\n",
       " ['--------------------------------', '--------------------'],\n",
       " ['inlet', '0'],\n",
       " ['filter_in', '-150.67986'],\n",
       " ['filter_out', '-281.92282'],\n",
       " ['fan_in', '-297.20341'],\n",
       " ['fan_out', '323.73506'],\n",
       " ['evap_in', '796.44985'],\n",
       " ['evap_out', '720.15217'],\n",
       " ['hc_in', '681.13351'],\n",
       " ['hc_out', '468.53988'],\n",
       " ['outlet_rfl', '17.786337'],\n",
       " ['outlet_rfr', '18.773544'],\n",
       " ['outlet_ffl', '11.843832'],\n",
       " ['outlet_ffr', '11.158986'],\n",
       " ['----------------', '--------------------'],\n",
       " ['Net', '313.21405'],\n",
       " [],\n",
       " ['Area-Weighted', 'Average'],\n",
       " ['Static', 'Pressure', '(pascal)'],\n",
       " ['--------------------------------', '--------------------'],\n",
       " ['inlet', '-112.52909'],\n",
       " ['filter_in', '-156.08739'],\n",
       " ['filter_out', '-287.77457'],\n",
       " ['fan_in', '-388.93607'],\n",
       " ['fan_out', '-324.90826'],\n",
       " ['evap_in', '792.67526'],\n",
       " ['evap_out', '717.38053'],\n",
       " ['hc_in', '674.91676'],\n",
       " ['hc_out', '455.94341'],\n",
       " ['outlet_rfl', '0'],\n",
       " ['outlet_rfr', '0'],\n",
       " ['outlet_ffl', '0'],\n",
       " ['outlet_ffr', '0'],\n",
       " ['----------------', '--------------------'],\n",
       " ['Net', '180.03074'],\n",
       " ['\"Force', 'Report\"'],\n",
       " [],\n",
       " ['Moments', '-', 'Moment', 'Center', '(2.13586', '0.38648', '0.82492)'],\n",
       " ['Moments', '(n-m)', 'Coefficients'],\n",
       " ['Zone', 'Pressure', 'Viscous', 'Total', 'Pressure', 'Viscous', 'Total'],\n",
       " ['fan_blade',\n",
       "  '(-0.0030897371',\n",
       "  '0.016769767',\n",
       "  '-0.51096213)',\n",
       "  '(-0.0037680494',\n",
       "  '-4.7437345e-05',\n",
       "  '0.0028287875)',\n",
       "  '(-0.0068577866',\n",
       "  '0.016722329',\n",
       "  '-0.50813334)',\n",
       "  '(-0.0050444688',\n",
       "  '0.027379211',\n",
       "  '-0.83422388)',\n",
       "  '(-0.0061519174',\n",
       "  '-7.7448726e-05',\n",
       "  '0.0046184286)',\n",
       "  '(-0.011196386',\n",
       "  '0.027301762',\n",
       "  '-0.82960545)'],\n",
       " ['-------------------------',\n",
       "  '---------------------------------------------',\n",
       "  '---------------------------------------------',\n",
       "  '---------------------------------------------',\n",
       "  '---------------------------------------------',\n",
       "  '---------------------------------------------',\n",
       "  '---------------------------------------------'],\n",
       " ['Net',\n",
       "  '(-0.0030897371',\n",
       "  '0.016769767',\n",
       "  '-0.51096213)',\n",
       "  '(-0.0037680494',\n",
       "  '-4.7437345e-05',\n",
       "  '0.0028287875)',\n",
       "  '(-0.0068577866',\n",
       "  '0.016722329',\n",
       "  '-0.50813334)',\n",
       "  '(-0.0050444688',\n",
       "  '0.027379211',\n",
       "  '-0.83422388)',\n",
       "  '(-0.0061519174',\n",
       "  '-7.7448726e-05',\n",
       "  '0.0046184286)',\n",
       "  '(-0.011196386',\n",
       "  '0.027301762',\n",
       "  '-0.82960545)'],\n",
       " [],\n",
       " ['Moments',\n",
       "  '-',\n",
       "  'Moment',\n",
       "  'Center',\n",
       "  '(2.13586',\n",
       "  '0.38648',\n",
       "  '0.82492)',\n",
       "  'Moment',\n",
       "  'Axis',\n",
       "  '(0',\n",
       "  '0',\n",
       "  '1)'],\n",
       " ['Moments', '(n-m)', 'Coefficients'],\n",
       " ['Zone', 'Pressure', 'Viscous', 'Total', 'Pressure', 'Viscous', 'Total'],\n",
       " ['fan_blade',\n",
       "  '-0.51096213',\n",
       "  '0.0028287875',\n",
       "  '-0.50813334',\n",
       "  '-0.83422388',\n",
       "  '0.0046184286',\n",
       "  '-0.82960545'],\n",
       " ['-------------------------',\n",
       "  '---------------',\n",
       "  '---------------',\n",
       "  '---------------',\n",
       "  '---------------',\n",
       "  '---------------',\n",
       "  '---------------'],\n",
       " ['Net',\n",
       "  '-0.51096213',\n",
       "  '0.0028287875',\n",
       "  '-0.50813334',\n",
       "  '-0.83422388',\n",
       "  '0.0046184286',\n",
       "  '-0.82960545']]"
      ]
     },
     "execution_count": 203,
     "metadata": {},
     "output_type": "execute_result"
    }
   ],
   "source": [
    "txt"
   ]
  },
  {
   "cell_type": "code",
   "execution_count": null,
   "metadata": {},
   "outputs": [],
   "source": []
  },
  {
   "cell_type": "code",
   "execution_count": 196,
   "metadata": {},
   "outputs": [
    {
     "data": {
      "text/plain": [
       "[['\"Surface', 'Integral', 'Report\"'],\n",
       " [],\n",
       " ['Volumetric', 'Flow', 'Rate', '(m3/s)'],\n",
       " ['--------------------------------', '--------------------'],\n",
       " ['inlet', '0.11233859'],\n",
       " ['outlet_defrost', '-0.064227019'],\n",
       " ['outlet_rfl', '-0.006196337'],\n",
       " ['outlet_rfr', '-0.0063777246'],\n",
       " ['outlet_ffl', '-0.016774527'],\n",
       " ['outlet_ffr', '-0.016722231'],\n",
       " ['outlet_vent', '-0.0020425271'],\n",
       " ['----------------', '--------------------'],\n",
       " ['Net', '-1.7768809e-06'],\n",
       " [],\n",
       " ['Mass', 'Flow', 'Rate', '(kg/s)'],\n",
       " ['--------------------------------', '--------------------'],\n",
       " ['inlet', '0.13761483'],\n",
       " ['outlet_defrost', '-0.078678094'],\n",
       " ['outlet_ffl', '-0.020548796'],\n",
       " ['outlet_ffr', '-0.020484734'],\n",
       " ['outlet_rfl', '-0.0075905127'],\n",
       " ['outlet_rfr', '-0.0078127123'],\n",
       " ['outlet_vent', '-0.0025020952'],\n",
       " ['----------------', '--------------------'],\n",
       " ['Net', '-2.1134038e-06'],\n",
       " [],\n",
       " ['Uniformity', 'Index', 'Area-Wt.'],\n",
       " ['Velocity', 'Magnitude'],\n",
       " ['--------------------------------', '--------------------'],\n",
       " ['evap_in', '0.89884776'],\n",
       " ['evap_out', '0.89784792'],\n",
       " ['filter_out', '0.90900547'],\n",
       " ['hc_out', '0.95246826'],\n",
       " ['----------------', '--------------------'],\n",
       " ['Net', '0.86388828'],\n",
       " [],\n",
       " ['Area-Weighted', 'Average'],\n",
       " ['Total', 'Pressure', '(pascal)'],\n",
       " ['--------------------------------', '--------------------'],\n",
       " ['inlet', '0'],\n",
       " ['filter_in', '-150.67986'],\n",
       " ['filter_out', '-281.92282'],\n",
       " ['fan_in', '-297.20341'],\n",
       " ['fan_out', '323.73506'],\n",
       " ['evap_in', '796.44985'],\n",
       " ['evap_out', '720.15217'],\n",
       " ['hc_in', '681.13351'],\n",
       " ['hc_out', '468.53988'],\n",
       " ['outlet_rfl', '17.786337'],\n",
       " ['outlet_rfr', '18.773544'],\n",
       " ['outlet_ffl', '11.843832'],\n",
       " ['outlet_ffr', '11.158986'],\n",
       " ['----------------', '--------------------'],\n",
       " ['Net', '313.21405'],\n",
       " [],\n",
       " ['Area-Weighted', 'Average'],\n",
       " ['Static', 'Pressure', '(pascal)'],\n",
       " ['--------------------------------', '--------------------'],\n",
       " ['inlet', '-112.52909'],\n",
       " ['filter_in', '-156.08739'],\n",
       " ['filter_out', '-287.77457'],\n",
       " ['fan_in', '-388.93607'],\n",
       " ['fan_out', '-324.90826'],\n",
       " ['evap_in', '792.67526'],\n",
       " ['evap_out', '717.38053'],\n",
       " ['hc_in', '674.91676'],\n",
       " ['hc_out', '455.94341'],\n",
       " ['outlet_rfl', '0'],\n",
       " ['outlet_rfr', '0'],\n",
       " ['outlet_ffl', '0'],\n",
       " ['outlet_ffr', '0'],\n",
       " ['----------------', '--------------------'],\n",
       " ['Net', '180.03074'],\n",
       " ['\"Force', 'Report\"'],\n",
       " [],\n",
       " ['Moments', '-', 'Moment', 'Center', '(2.13586', '0.38648', '0.82492)'],\n",
       " ['Moments', '(n-m)', 'Coefficients'],\n",
       " ['Zone', 'Pressure', 'Viscous', 'Total', 'Pressure', 'Viscous', 'Total'],\n",
       " ['fan_blade',\n",
       "  '(-0.0030897371',\n",
       "  '0.016769767',\n",
       "  '-0.51096213)',\n",
       "  '(-0.0037680494',\n",
       "  '-4.7437345e-05',\n",
       "  '0.0028287875)',\n",
       "  '(-0.0068577866',\n",
       "  '0.016722329',\n",
       "  '-0.50813334)',\n",
       "  '(-0.0050444688',\n",
       "  '0.027379211',\n",
       "  '-0.83422388)',\n",
       "  '(-0.0061519174',\n",
       "  '-7.7448726e-05',\n",
       "  '0.0046184286)',\n",
       "  '(-0.011196386',\n",
       "  '0.027301762',\n",
       "  '-0.82960545)'],\n",
       " ['-------------------------',\n",
       "  '---------------------------------------------',\n",
       "  '---------------------------------------------',\n",
       "  '---------------------------------------------',\n",
       "  '---------------------------------------------',\n",
       "  '---------------------------------------------',\n",
       "  '---------------------------------------------'],\n",
       " ['Net',\n",
       "  '(-0.0030897371',\n",
       "  '0.016769767',\n",
       "  '-0.51096213)',\n",
       "  '(-0.0037680494',\n",
       "  '-4.7437345e-05',\n",
       "  '0.0028287875)',\n",
       "  '(-0.0068577866',\n",
       "  '0.016722329',\n",
       "  '-0.50813334)',\n",
       "  '(-0.0050444688',\n",
       "  '0.027379211',\n",
       "  '-0.83422388)',\n",
       "  '(-0.0061519174',\n",
       "  '-7.7448726e-05',\n",
       "  '0.0046184286)',\n",
       "  '(-0.011196386',\n",
       "  '0.027301762',\n",
       "  '-0.82960545)'],\n",
       " [],\n",
       " ['Moments',\n",
       "  '-',\n",
       "  'Moment',\n",
       "  'Center',\n",
       "  '(2.13586',\n",
       "  '0.38648',\n",
       "  '0.82492)',\n",
       "  'Moment',\n",
       "  'Axis',\n",
       "  '(0',\n",
       "  '0',\n",
       "  '1)'],\n",
       " ['Moments', '(n-m)', 'Coefficients'],\n",
       " ['Zone', 'Pressure', 'Viscous', 'Total', 'Pressure', 'Viscous', 'Total'],\n",
       " ['fan_blade',\n",
       "  '-0.51096213',\n",
       "  '0.0028287875',\n",
       "  '-0.50813334',\n",
       "  '-0.83422388',\n",
       "  '0.0046184286',\n",
       "  '-0.82960545'],\n",
       " ['-------------------------',\n",
       "  '---------------',\n",
       "  '---------------',\n",
       "  '---------------',\n",
       "  '---------------',\n",
       "  '---------------',\n",
       "  '---------------'],\n",
       " ['Net',\n",
       "  '-0.51096213',\n",
       "  '0.0028287875',\n",
       "  '-0.50813334',\n",
       "  '-0.83422388',\n",
       "  '0.0046184286',\n",
       "  '-0.82960545']]"
      ]
     },
     "execution_count": 196,
     "metadata": {},
     "output_type": "execute_result"
    }
   ],
   "source": []
  },
  {
   "cell_type": "markdown",
   "metadata": {},
   "source": [
    "### Partitioning txt function"
   ]
  },
  {
   "cell_type": "code",
   "execution_count": 207,
   "metadata": {},
   "outputs": [],
   "source": [
    "def rearrange(txt, part_name):\n",
    "    divide_sign = []\n",
    "    for line in txt:\n",
    "        if part_name in line:\n",
    "            title_index = txt.index(line)\n",
    "            title_line = txt[title_index]\n",
    "            break\n",
    "    txt_down = txt[title_index:]\n",
    "    for line in txt_down:\n",
    "        \n",
    "        if '--' in line[0]:\n",
    "            divide_sign.append(txt_down.index(line)) \n",
    "            print(divide_sign)    \n",
    "        if len(divide_sign) > 1:\n",
    "            break \n",
    "\n",
    "    txt_taget = txt_down[divide_sign[0]+1:divide_sign[1]]\n",
    "    txt_taget = np.array(txt_taget)\n",
    "    \n",
    "    \n",
    "    txt_taget_string = txt_taget[:,0]\n",
    "    \n",
    "    txt_taget_data = txt_taget[:,1]\n",
    "    txt_taget_data = list(map(float, txt_taget_data))\n",
    "    \n",
    "    \n",
    "    print(txt[title_index])\n",
    "    print(title_line,txt_taget_string, txt_taget_data)\n",
    "    return title_line,txt_taget_string, txt_taget_data"
   ]
  },
  {
   "cell_type": "code",
   "execution_count": 208,
   "metadata": {},
   "outputs": [
    {
     "name": "stdout",
     "output_type": "stream",
     "text": [
      "[1]\n",
      "[1, 9]\n",
      "['Volumetric', 'Flow', 'Rate', '(m3/s)']\n",
      "['Volumetric', 'Flow', 'Rate', '(m3/s)'] ['inlet' 'outlet_defrost' 'outlet_rfl' 'outlet_rfr' 'outlet_ffl'\n",
      " 'outlet_ffr' 'outlet_vent'] [0.11233859, -0.064227019, -0.006196337, -0.0063777246, -0.016774527, -0.016722231, -0.0020425271]\n"
     ]
    }
   ],
   "source": [
    "title_line, volume_string, volume_data = rearrange(txt, 'Volumetric')"
   ]
  },
  {
   "cell_type": "code",
   "execution_count": null,
   "metadata": {},
   "outputs": [],
   "source": [
    "print(volume_data)\n",
    "print(type(volume_data))"
   ]
  },
  {
   "cell_type": "markdown",
   "metadata": {},
   "source": [
    "### volume data process"
   ]
  },
  {
   "cell_type": "code",
   "execution_count": null,
   "metadata": {},
   "outputs": [],
   "source": [
    "def unit_transform(data):\n",
    "    data= np.array(data)\n",
    "    data_liter_per_second = data*1000\n",
    "    \n",
    "    return data_liter_per_second"
   ]
  },
  {
   "cell_type": "code",
   "execution_count": null,
   "metadata": {},
   "outputs": [],
   "source": [
    "Liter_per_second = unit_transform(volume_data)\n",
    "Liter_per_second "
   ]
  },
  {
   "cell_type": "code",
   "execution_count": null,
   "metadata": {},
   "outputs": [],
   "source": [
    "def total_volume(data):\n",
    "    \"\"\"volume data, make it all nagetive value equal to zero\"\"\"\n",
    "    total_volume = sum(np.maximum(data, 0))\n",
    "    return total_volume"
   ]
  },
  {
   "cell_type": "code",
   "execution_count": null,
   "metadata": {},
   "outputs": [],
   "source": [
    "total_volume = total_volume(Liter_per_second)\n",
    "total_volume"
   ]
  },
  {
   "cell_type": "code",
   "execution_count": 258,
   "metadata": {},
   "outputs": [],
   "source": [
    "def decimal(raw_data, number):\n",
    "    def str_1(raw_data):\n",
    "        str_1 = '%.1f'%raw_data\n",
    "            \n",
    "        return str_1\n",
    "    def str_2(raw_data):\n",
    "        str_2 = '%.2f'%raw_data\n",
    "            \n",
    "        return str_2\n",
    "    \n",
    "    if number == 1:\n",
    "        string = list(map(str_1, raw_data))\n",
    "    \n",
    "    elif number == 2:\n",
    "        string = list(map(str_2, raw_data))\n",
    "    \n",
    "    print(string)\n",
    "    return string"
   ]
  },
  {
   "cell_type": "code",
   "execution_count": 259,
   "metadata": {},
   "outputs": [
    {
     "name": "stdout",
     "output_type": "stream",
     "text": [
      "['112.3', '-64.2', '-6.2', '-6.4', '-16.8', '-16.7', '-2.0']\n"
     ]
    }
   ],
   "source": [
    "Liter_per_second_de = decimal(Liter_per_second, 1)\n",
    "total_volume_de = '%.1f'%total_volume"
   ]
  },
  {
   "cell_type": "code",
   "execution_count": null,
   "metadata": {},
   "outputs": [],
   "source": [
    "def percentaging(raw_data, total_volume):\n",
    "    raw_percent = abs(raw_data/total_volume)*100\n",
    "    print(raw_percent)\n",
    "    def str_1(raw_data):\n",
    "        str_1 = '%.1f'%raw_data\n",
    "        \n",
    "        return str_1\n",
    "    string_ratio = list(map(str_1, raw_percent))\n",
    "    print(string_ratio)\n",
    "    def add_symbol(string_ratio):\n",
    "        percentaging_data = string_ratio + '%'\n",
    "        \n",
    "        return percentaging_data\n",
    "    processed_data = list(map(add_symbol, string_ratio))\n",
    "    \n",
    "    \n",
    "    return processed_data"
   ]
  },
  {
   "cell_type": "code",
   "execution_count": null,
   "metadata": {},
   "outputs": [],
   "source": [
    "percentage_array = percentaging(Liter_per_second, total_volume)"
   ]
  },
  {
   "cell_type": "markdown",
   "metadata": {},
   "source": [
    "### Build matrix for output"
   ]
  },
  {
   "cell_type": "code",
   "execution_count": null,
   "metadata": {},
   "outputs": [],
   "source": [
    "def build_matrix(volume_string, Liter_per_second_de, percentage_array, sp_string, sp_data_de):\n",
    "    matrix = []\n",
    "    matrix.append(np.array(volume_string))\n",
    "    matrix.append(np.array(Liter_per_second_de))\n",
    "    matrix.append(np.array(percentage_array))\n",
    "\n",
    "    \n",
    "    matrix = np.array(matrix)\n",
    "    matrix = np.transpose(matrix)\n",
    "    print(matrix)\n",
    "    \n",
    "    return matrix"
   ]
  },
  {
   "cell_type": "code",
   "execution_count": null,
   "metadata": {},
   "outputs": [],
   "source": [
    "matrix = []\n",
    "matrix.append(volume_string)\n",
    "matrix.append(Liter_per_second_de)\n",
    "matrix.append(percentage_array)\n",
    "matrix = np.array(matrix)\n",
    "\n",
    "matrix = np.transpose(matrix)\n",
    "matrix"
   ]
  },
  {
   "cell_type": "code",
   "execution_count": null,
   "metadata": {},
   "outputs": [],
   "source": [
    "\n",
    "    martix_first_line = ['','Volume(L/S)', 'Percentage(%)', 'Static Pressure', '(Pa)']\n",
    "    matrix_Last_line = ['Total volume', total_volume_de, '100.0%','','']\n",
    "    matrix = np.insert(matrix, 0, values = martix_first_line, axis = 0)\n",
    "    matrix = np.insert(matrix, len(matrix), values = matrix_Last_line, axis = 0)\n",
    "    print(matrix)\n"
   ]
  },
  {
   "cell_type": "markdown",
   "metadata": {},
   "source": [
    "### write excel"
   ]
  },
  {
   "cell_type": "code",
   "execution_count": null,
   "metadata": {},
   "outputs": [],
   "source": [
    "def write_excel(matrix, excel_name):\n",
    "    \n",
    "    workbook = xlwt.Workbook(excel_name)\n",
    "    sheet = workbook.add_sheet('test1')\n",
    "    for i in range(len(matrix)):\n",
    "        for j in range(len(matrix[0])):\n",
    "            sheet.write(i,  j, matrix[i][j])\n",
    "    \n",
    "    workbook.save(excel_name)\n",
    "    print(excel_name)"
   ]
  },
  {
   "cell_type": "code",
   "execution_count": null,
   "metadata": {},
   "outputs": [],
   "source": [
    "#write_excel(matrix,'test.xls')"
   ]
  },
  {
   "cell_type": "markdown",
   "metadata": {},
   "source": [
    "### Partitioning static pressure"
   ]
  },
  {
   "cell_type": "code",
   "execution_count": null,
   "metadata": {},
   "outputs": [],
   "source": [
    "part_name = 'Static'\n",
    "sp_titile,sp_string, sp_data = rearrange(txt, 'Static')"
   ]
  },
  {
   "cell_type": "markdown",
   "metadata": {},
   "source": [
    "### static pressure data process"
   ]
  },
  {
   "cell_type": "code",
   "execution_count": 260,
   "metadata": {},
   "outputs": [
    {
     "name": "stdout",
     "output_type": "stream",
     "text": [
      "['-112.5', '-156.1', '-287.8', '-388.9', '-324.9', '792.7', '717.4', '674.9', '455.9', '0.0', '0.0', '0.0', '0.0']\n"
     ]
    }
   ],
   "source": [
    "sp_data_de = decimal(sp_data, 1)\n",
    "sp_data_de = np.array(sp_data_de)"
   ]
  },
  {
   "cell_type": "markdown",
   "metadata": {},
   "source": [
    "### Partitioning total pressure"
   ]
  },
  {
   "cell_type": "code",
   "execution_count": 211,
   "metadata": {},
   "outputs": [
    {
     "name": "stdout",
     "output_type": "stream",
     "text": [
      "[1]\n",
      "[1, 15]\n",
      "['Total', 'Pressure', '(pascal)']\n",
      "['Total', 'Pressure', '(pascal)'] ['inlet' 'filter_in' 'filter_out' 'fan_in' 'fan_out' 'evap_in' 'evap_out'\n",
      " 'hc_in' 'hc_out' 'outlet_rfl' 'outlet_rfr' 'outlet_ffl' 'outlet_ffr'] [0.0, -150.67986, -281.92282, -297.20341, 323.73506, 796.44985, 720.15217, 681.13351, 468.53988, 17.786337, 18.773544, 11.843832, 11.158986]\n"
     ]
    }
   ],
   "source": [
    "part_name = 'Total'\n",
    "tp_titile,tp_string, tp_data = rearrange(txt, part_name)"
   ]
  },
  {
   "cell_type": "code",
   "execution_count": 261,
   "metadata": {},
   "outputs": [
    {
     "name": "stdout",
     "output_type": "stream",
     "text": [
      "['0.0', '-150.7', '-281.9', '-297.2', '323.7', '796.4', '720.2', '681.1', '468.5', '17.8', '18.8', '11.8', '11.2']\n"
     ]
    }
   ],
   "source": [
    "tp_data_de = decimal(tp_data, 1)\n",
    "tp_data_de = np.array(tp_data_de)"
   ]
  },
  {
   "cell_type": "markdown",
   "metadata": {},
   "source": [
    "### Partitioning uniformity"
   ]
  },
  {
   "cell_type": "code",
   "execution_count": 251,
   "metadata": {},
   "outputs": [
    {
     "name": "stdout",
     "output_type": "stream",
     "text": [
      "[2]\n",
      "[2, 7]\n",
      "['Uniformity', 'Index', 'Area-Wt.']\n",
      "['Uniformity', 'Index', 'Area-Wt.'] ['evap_in' 'evap_out' 'filter_out' 'hc_out'] [0.89884776, 0.89784792, 0.90900547, 0.95246826]\n"
     ]
    }
   ],
   "source": [
    "uni_titile,uni_string, uni_data = rearrange(txt, 'Uniformity')"
   ]
  },
  {
   "cell_type": "code",
   "execution_count": 257,
   "metadata": {},
   "outputs": [
    {
     "name": "stdout",
     "output_type": "stream",
     "text": [
      "['0.90', '0.90', '0.91', '0.95']\n"
     ]
    }
   ],
   "source": [
    "uni_data_de = decimal(uni_data, 2)\n",
    "uni_data_de = np.array(uni_data_de)"
   ]
  },
  {
   "cell_type": "code",
   "execution_count": 256,
   "metadata": {},
   "outputs": [],
   "source": []
  },
  {
   "cell_type": "code",
   "execution_count": null,
   "metadata": {},
   "outputs": [],
   "source": []
  },
  {
   "cell_type": "code",
   "execution_count": null,
   "metadata": {},
   "outputs": [],
   "source": []
  }
 ],
 "metadata": {
  "kernelspec": {
   "display_name": "Python 3",
   "language": "python",
   "name": "python3"
  },
  "language_info": {
   "codemirror_mode": {
    "name": "ipython",
    "version": 3
   },
   "file_extension": ".py",
   "mimetype": "text/x-python",
   "name": "python",
   "nbconvert_exporter": "python",
   "pygments_lexer": "ipython3",
   "version": "3.7.3"
  }
 },
 "nbformat": 4,
 "nbformat_minor": 2
}
