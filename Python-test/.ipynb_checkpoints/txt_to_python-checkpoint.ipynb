{
 "cells": [
  {
   "cell_type": "markdown",
   "metadata": {},
   "source": [
    "# TXT to XLS"
   ]
  },
  {
   "cell_type": "markdown",
   "metadata": {},
   "source": [
    "### import"
   ]
  },
  {
   "cell_type": "code",
   "execution_count": 1,
   "metadata": {},
   "outputs": [],
   "source": [
    "import numpy as np\n",
    "import os\n",
    "import openpyxl\n",
    "import copy"
   ]
  },
  {
   "cell_type": "markdown",
   "metadata": {},
   "source": [
    "### input and output control"
   ]
  },
  {
   "cell_type": "code",
   "execution_count": 2,
   "metadata": {},
   "outputs": [],
   "source": [
    "txt_name =\"G:\\\\519(706)\\\\519_vent_150mmfan\\\\706-vent-v10\\\\706-vent-v10-150mmfan-result\\\\519-vent.txt\"\n",
    "excel_name = '706-vent-v10-pp1-150mmfan'\n",
    "sheet_name = \"test1\"\n",
    "output_path = \"G:\\\\519(706)\\\\519_vent_150mmfan\\\\706-vent-v10\\\\706-vent-v10-150mmfan-result\\\\\"+ excel_name + \".xlsx\"\n",
    "data_name = '706-vent-v10-pp1-150mmfan'"
   ]
  },
  {
   "cell_type": "markdown",
   "metadata": {},
   "source": [
    "### txt file import function"
   ]
  },
  {
   "cell_type": "code",
   "execution_count": 3,
   "metadata": {},
   "outputs": [],
   "source": [
    "def txt_in(filename):\n",
    "    f = open(filename, encoding = 'utf-8')\n",
    "    lines = f.readlines()\n",
    "    \n",
    "    return lines"
   ]
  },
  {
   "cell_type": "code",
   "execution_count": 4,
   "metadata": {
    "scrolled": true
   },
   "outputs": [
    {
     "name": "stdout",
     "output_type": "stream",
     "text": [
      "['                         \"Surface Integral Report\"\\n', '\\n', '            Volumetric Flow Rate               (m3/s)\\n', '-------------------------------- --------------------\\n', '                          inlet1           0.12431179\\n', '                          inlet2          0.039339477\\n', '                       outlet_vr         -0.070219975\\n', '                       outlet_vl         -0.067404142\\n', '                       outlet_rv         -0.026025485\\n', '                ---------------- --------------------\\n', '                             Net        1.6640948e-06\\n', '\\n', '                  Mass Flow Rate               (kg/s)\\n', '-------------------------------- --------------------\\n', '                          inlet1           0.15228194\\n']\n"
     ]
    }
   ],
   "source": [
    "txt = txt_in(txt_name)\n",
    "print(txt[0:15])"
   ]
  },
  {
   "cell_type": "markdown",
   "metadata": {},
   "source": [
    "### Breakdown the txt"
   ]
  },
  {
   "cell_type": "code",
   "execution_count": 5,
   "metadata": {},
   "outputs": [],
   "source": [
    "row_number = len(txt)\n",
    "for i in range(row_number):\n",
    "    txt[i] = txt[i].strip()\n",
    "    txt[i] = txt[i].split()"
   ]
  },
  {
   "cell_type": "markdown",
   "metadata": {},
   "source": [
    "### Partitioning txt function"
   ]
  },
  {
   "cell_type": "code",
   "execution_count": 6,
   "metadata": {},
   "outputs": [],
   "source": [
    "def partitioning(txt, part_name):\n",
    "    exist_factor = 0\n",
    "    divide_sign = []\n",
    "    for line in txt:\n",
    "        if part_name in line:\n",
    "            title_index = txt.index(line)\n",
    "            title_line = txt[title_index]\n",
    "            exist_factor += 1\n",
    "            break\n",
    "    if exist_factor == 1:\n",
    "        txt_down = txt[title_index:]\n",
    "        for line in txt_down:\n",
    "            if '--' in line[0]:\n",
    "                divide_sign.append(txt_down.index(line))\n",
    "            if len(divide_sign) > 1:\n",
    "                break\n",
    "                print(divide_sign) \n",
    "        txt_taget = txt_down[divide_sign[0]+1:divide_sign[1]]\n",
    "        txt_taget = np.array(txt_taget)\n",
    "\n",
    "        txt_taget_string = txt_taget[:,0]\n",
    "        txt_taget_string = list(txt_taget_string)\n",
    "\n",
    "        txt_taget_data = txt_taget[:,1]\n",
    "        txt_taget_data = list(map(float, txt_taget_data))\n",
    "    else:\n",
    "        title_line,txt_taget_string, txt_taget_data = ['not-exist'],['not-exist'],['not-exist']\n",
    "\n",
    "    return title_line,txt_taget_string, txt_taget_data, exist_factor"
   ]
  },
  {
   "cell_type": "markdown",
   "metadata": {},
   "source": [
    "### Partitioning volume flow rate"
   ]
  },
  {
   "cell_type": "code",
   "execution_count": 7,
   "metadata": {},
   "outputs": [],
   "source": [
    "title_line, volume_string, volume_data, volume_exist = partitioning(txt, 'Volumetric')"
   ]
  },
  {
   "cell_type": "code",
   "execution_count": 8,
   "metadata": {},
   "outputs": [
    {
     "name": "stdout",
     "output_type": "stream",
     "text": [
      "[0.12431179, 0.039339477, -0.070219975, -0.067404142, -0.026025485]\n",
      "<class 'list'>\n"
     ]
    }
   ],
   "source": [
    "print(volume_data)\n",
    "print(type(volume_data))"
   ]
  },
  {
   "cell_type": "markdown",
   "metadata": {},
   "source": [
    "### volume data process"
   ]
  },
  {
   "cell_type": "code",
   "execution_count": 9,
   "metadata": {},
   "outputs": [],
   "source": [
    "def unit_transform(data):\n",
    "    data= np.array(data)\n",
    "    data_liter_per_second = data*1000\n",
    "    \n",
    "    return data_liter_per_second"
   ]
  },
  {
   "cell_type": "code",
   "execution_count": 10,
   "metadata": {},
   "outputs": [],
   "source": [
    "def total_volume(data):\n",
    "    \"\"\"volume data, make it all nagetive value equal to zero\"\"\"\n",
    "    total_volume = sum(np.maximum(data, 0))\n",
    "    return total_volume"
   ]
  },
  {
   "cell_type": "code",
   "execution_count": 11,
   "metadata": {},
   "outputs": [],
   "source": [
    "def decimal(raw_data, number):\n",
    "    def str_1(raw_data):\n",
    "        str_1 = '%.1f'%raw_data\n",
    "            \n",
    "        return str_1\n",
    "    def str_2(raw_data):\n",
    "        str_2 = '%.2f'%raw_data\n",
    "            \n",
    "        return str_2\n",
    "    \n",
    "    if number == 1:\n",
    "        string = list(map(str_1, raw_data))\n",
    "    \n",
    "    elif number == 2:\n",
    "        string = list(map(str_2, raw_data))\n",
    "    \n",
    "    print(string)\n",
    "    return string"
   ]
  },
  {
   "cell_type": "code",
   "execution_count": 12,
   "metadata": {},
   "outputs": [],
   "source": [
    "def add_symbol(string_ratio):\n",
    "    percentaging_data = string_ratio + '%'\n",
    "        \n",
    "    return percentaging_data"
   ]
  },
  {
   "cell_type": "code",
   "execution_count": 13,
   "metadata": {},
   "outputs": [],
   "source": [
    "def percentaging(raw_data, total_volume):\n",
    "    raw_percent = abs(raw_data/total_volume)*100\n",
    "    print(raw_percent)\n",
    "    def str_1(raw_data):\n",
    "        str_1 = '%.1f'%raw_data\n",
    "        \n",
    "        return str_1\n",
    "    string_ratio = list(map(str_1, raw_percent))\n",
    "    print(string_ratio)\n",
    " \n",
    "    processed_data = list(map(add_symbol, string_ratio))\n",
    "    \n",
    "    \n",
    "    return processed_data"
   ]
  },
  {
   "cell_type": "code",
   "execution_count": 14,
   "metadata": {},
   "outputs": [
    {
     "name": "stdout",
     "output_type": "stream",
     "text": [
      "['124.3', '39.3', '-70.2', '-67.4', '-26.0', '163.7']\n",
      "[ 75.96139784  24.03860216  42.90829902  41.1876689   15.90301467\n",
      " 100.        ]\n",
      "['76.0', '24.0', '42.9', '41.2', '15.9', '100.0']\n",
      "['124.3', '39.3', '-70.2', '-67.4', '-26.0', '163.7']\n"
     ]
    }
   ],
   "source": [
    "if volume_exist == 1:   \n",
    "    Liter_per_second = unit_transform(volume_data)\n",
    "    total_volume = total_volume(Liter_per_second)\n",
    "    \n",
    "    Liter_per_second = list(Liter_per_second)\n",
    "    Liter_per_second.append(total_volume)\n",
    "    Liter_per_second_de = decimal(Liter_per_second, 1)\n",
    "    \n",
    "    percentage_array = percentaging(Liter_per_second, total_volume)\n",
    "    volume_string = list(volume_string)\n",
    "    volume_string.append('Total')\n",
    "    \n",
    "    print(Liter_per_second_de)\n",
    "else:\n",
    "    volume_string, Liter_per_second_de, percentage_array = ['not-exist'],['not-exist'],['not-exist']"
   ]
  },
  {
   "cell_type": "markdown",
   "metadata": {},
   "source": [
    "### Partitioning static pressure"
   ]
  },
  {
   "cell_type": "code",
   "execution_count": 15,
   "metadata": {},
   "outputs": [],
   "source": [
    "part_name = 'Static'\n",
    "sp_titile,sp_string, sp_data, sp_exist = partitioning(txt, 'Static')"
   ]
  },
  {
   "cell_type": "markdown",
   "metadata": {},
   "source": [
    "### static pressure data process"
   ]
  },
  {
   "cell_type": "code",
   "execution_count": 16,
   "metadata": {},
   "outputs": [
    {
     "name": "stdout",
     "output_type": "stream",
     "text": [
      "['-67.5', '-47.8', '-282.0', '-442.3', '397.3', '259.0', '-19.6', '-36.8', '-42.4', '0.0', '0.0']\n"
     ]
    }
   ],
   "source": [
    "if sp_exist == 1:\n",
    "    sp_data_de = decimal(sp_data, 1)\n",
    "else:\n",
    "    sp_data_de = ['not-exist']"
   ]
  },
  {
   "cell_type": "markdown",
   "metadata": {},
   "source": [
    "### Partitioning total pressure"
   ]
  },
  {
   "cell_type": "code",
   "execution_count": 17,
   "metadata": {},
   "outputs": [],
   "source": [
    "part_name = 'Total'\n",
    "tp_titile,tp_string, tp_data, tp_exist = partitioning(txt, part_name)"
   ]
  },
  {
   "cell_type": "code",
   "execution_count": 18,
   "metadata": {},
   "outputs": [
    {
     "name": "stdout",
     "output_type": "stream",
     "text": [
      "['0.0', '-38.2', '-270.4', '-322.1', '411.5', '264.7', '4.3', '15.8', '15.9', '32.8', '30.0']\n"
     ]
    }
   ],
   "source": [
    "if tp_exist == 1:\n",
    "    tp_data_de = decimal(tp_data, 1)\n",
    "else:\n",
    "    tp_data_de = ['not-exist']"
   ]
  },
  {
   "cell_type": "markdown",
   "metadata": {},
   "source": [
    "### Partitioning uniformity"
   ]
  },
  {
   "cell_type": "code",
   "execution_count": 19,
   "metadata": {},
   "outputs": [],
   "source": [
    "uni_titile,uni_string, uni_data, uni_exist = partitioning(txt, 'Uniformity')"
   ]
  },
  {
   "cell_type": "code",
   "execution_count": 20,
   "metadata": {},
   "outputs": [
    {
     "name": "stdout",
     "output_type": "stream",
     "text": [
      "['0.82', '0.90', '0.90']\n"
     ]
    }
   ],
   "source": [
    "if uni_exist == 1:\n",
    "    uni_data_de = decimal(uni_data, 2)\n",
    "else:\n",
    "    uni_data_de = ['not-exist']"
   ]
  },
  {
   "cell_type": "markdown",
   "metadata": {},
   "source": [
    "### Partitioning Fan Moment"
   ]
  },
  {
   "cell_type": "code",
   "execution_count": 21,
   "metadata": {
    "scrolled": true
   },
   "outputs": [],
   "source": [
    "def find_moment(txt):\n",
    "    exist_factor = 0\n",
    "    for line in txt:\n",
    "        if 'Moment' and 'Axis' in line:\n",
    "            part_index = txt.index(line)\n",
    "            exist_factor += 1\n",
    "            break\n",
    "    if exist_factor == 1:       \n",
    "        moment_raw = txt[part_index+3][3]\n",
    "        try:\n",
    "            moment = '%.3f'% abs(float(moment_raw))\n",
    "        except Exception as e:\n",
    "            error = \"Wrong, Error:%s\"%e\n",
    "            return error\n",
    "        else:\n",
    "            return moment\n",
    "    else:\n",
    "        return 'not-exist'"
   ]
  },
  {
   "cell_type": "code",
   "execution_count": 22,
   "metadata": {},
   "outputs": [
    {
     "name": "stdout",
     "output_type": "stream",
     "text": [
      "[\"Wrong, Error:could not convert string to float: '---------------'\"]\n"
     ]
    }
   ],
   "source": [
    "moment = find_moment(txt)\n",
    "fan_moment = []\n",
    "fan_moment.append(moment)\n",
    "print(fan_moment)"
   ]
  },
  {
   "cell_type": "code",
   "execution_count": 23,
   "metadata": {
    "scrolled": true
   },
   "outputs": [
    {
     "name": "stdout",
     "output_type": "stream",
     "text": [
      "(['inlet1', 'inlet2', 'outlet_vr', 'outlet_vl', 'outlet_rv', 'Total'], ['124.3', '39.3', '-70.2', '-67.4', '-26.0', '163.7'], ['76.0%', '24.0%', '42.9%', '41.2%', '15.9%', '100.0%'], ['inlet2', 'filter_in', 'filter_out', 'fan_in', 'evap_in', 'evap_out', 'distrib_out_rv', 'distrib_out_vl', 'distrib_out_vr', 'outlet_vr', 'outlet_vl'], ['-67.5', '-47.8', '-282.0', '-442.3', '397.3', '259.0', '-19.6', '-36.8', '-42.4', '0.0', '0.0'], ['inlet2', 'filter_in', 'filter_out', 'fan_in', 'evap_in', 'evap_out', 'distrib_out_rv', 'distrib_out_vl', 'distrib_out_vr', 'outlet_vr', 'outlet_vl'], ['0.0', '-38.2', '-270.4', '-322.1', '411.5', '264.7', '4.3', '15.8', '15.9', '32.8', '30.0'], ['evap_in', 'evap_out', 'filter_out'], ['0.82', '0.90', '0.90'], [\"Wrong, Error:could not convert string to float: '---------------'\"])\n"
     ]
    }
   ],
   "source": [
    "global matrix\n",
    "matrix = volume_string, Liter_per_second_de, percentage_array, sp_string, sp_data_de, tp_string, tp_data_de, uni_string, uni_data_de, fan_moment\n",
    "print(matrix)"
   ]
  },
  {
   "cell_type": "code",
   "execution_count": null,
   "metadata": {},
   "outputs": [],
   "source": []
  },
  {
   "cell_type": "markdown",
   "metadata": {},
   "source": [
    "### write excel"
   ]
  },
  {
   "cell_type": "code",
   "execution_count": 24,
   "metadata": {},
   "outputs": [],
   "source": [
    "from openpyxl.utils import get_column_letter\n",
    "from openpyxl import load_workbook\n",
    "from openpyxl.styles import Font\n",
    "from openpyxl.styles import colors, PatternFill"
   ]
  },
  {
   "cell_type": "markdown",
   "metadata": {},
   "source": [
    "### create new excel"
   ]
  },
  {
   "cell_type": "code",
   "execution_count": 25,
   "metadata": {},
   "outputs": [],
   "source": [
    "def create_excel(excel_name, sheet_name):\n",
    "    # 创建一个Workbook对象，相当于创建了一个Excel文件\n",
    "    workbook=openpyxl.Workbook()\n",
    "    #wb=openpyxl.Workbook(encoding='UTF-8')\n",
    "    \n",
    "    worksheet = workbook.create_sheet(title = 'sheet2', index = 0)   #默认插在工作簿末尾\n",
    "    #worksheet2 = workbook.create_sheet(0)  #插入在工作簿的第一个位置\n",
    "    worksheet.title = sheet_name\n",
    "    \n",
    "    workbook.save(filename= excel_name)\n",
    "    print('create new excel:', excel_name, 'create new sheet:', sheet_name)"
   ]
  },
  {
   "cell_type": "markdown",
   "metadata": {},
   "source": [
    "### load excel"
   ]
  },
  {
   "cell_type": "code",
   "execution_count": 26,
   "metadata": {},
   "outputs": [],
   "source": [
    "def load_excel(excel_name, sheet_name):\n",
    "    \n",
    "    workbook =openpyxl.load_workbook(excel_name)\n",
    "    print(workbook.sheetnames)\n",
    "\n",
    "    worksheet = workbook[sheet_name]\n",
    "    print('opened excel:', excel_name,'with sheet:',sheet_name)\n",
    "    \n",
    "    return workbook, worksheet"
   ]
  },
  {
   "cell_type": "markdown",
   "metadata": {},
   "source": [
    "### input data"
   ]
  },
  {
   "cell_type": "code",
   "execution_count": 27,
   "metadata": {},
   "outputs": [],
   "source": [
    "def write_excel(matrix, worksheet, head_line, shift_right, shift_down, data_title):\n",
    "\n",
    "    \n",
    "    exist_row_index = worksheet.max_row #get exist table's max row index\n",
    "    print(exist_row_index)\n",
    "    shift_down = exist_row_index + 5    # shift new table under the exist table\n",
    "    \n",
    "     #data title\n",
    "    worksheet.merge_cells(start_row=1+shift_down, start_column=1, end_row=1+shift_down+7, end_column=3)   # merge cell\n",
    "    worksheet.cell(1+shift_down,  1,  data_title)                                                       #input data title\n",
    "    #font of title\n",
    "    title_index = 'A' + str(1+shift_down)\n",
    "    worksheet2[title_index].font = Font(size=16, italic=True, bold=True)    \n",
    "    # input head line\n",
    "    for j in range(len(head_line)):\n",
    "        worksheet.cell(1+shift_down, j+1+shift_right, head_line[j])\n",
    "        head_index = get_column_letter(j+1+shift_right) + str(1+shift_down)\n",
    "        worksheet2[head_index].fill = PatternFill(\"solid\", fgColor=\"D1EEEE\")\n",
    "        worksheet2[head_index].font = Font(size=12, bold=True)  \n",
    "    #import matrix to excel\n",
    "    for j in range(len(matrix)):\n",
    "        for i in range(len(matrix[j])):\n",
    "            worksheet.cell(i+2+shift_down,  j+1+shift_right, str(matrix[j][i]))"
   ]
  },
  {
   "cell_type": "markdown",
   "metadata": {},
   "source": [
    "### Modify excel style"
   ]
  },
  {
   "cell_type": "code",
   "execution_count": 28,
   "metadata": {},
   "outputs": [],
   "source": [
    "def auto_width(matrix, worksheet, head_line, shift_right):\n",
    "    # get width of each cell into width_matrix\n",
    "    width =copy.deepcopy(matrix)\n",
    "    for i in range(len(matrix)):\n",
    "        for j in range(len(matrix[i])):\n",
    "            width[i][j] = len(matrix[i][j])\n",
    "    print(width)\n",
    "    clo_width = np.zeros(len(matrix))\n",
    "    # get width of each column of heading\n",
    "    head_width = np.zeros(len(head_line))\n",
    "    \n",
    "    # modify each column's width\n",
    "    for i in range(len(width)):\n",
    "        col_letter = get_column_letter(i+1+shift_right)  # get columer sequence letter\n",
    "        clo_width[i] = max(width[i])         #get max width of each column\n",
    "        head_width[i] = len(head_line[i])      #compare with heading's width\n",
    "        #modify worksheet's each colume with max width\n",
    "        worksheet.column_dimensions[col_letter].width = max(clo_width[i], head_width[i])*1.2 + 2\n",
    "   \n",
    "    print(clo_width)"
   ]
  },
  {
   "cell_type": "code",
   "execution_count": 29,
   "metadata": {},
   "outputs": [
    {
     "name": "stdout",
     "output_type": "stream",
     "text": [
      "create new excel: G:\\519(706)\\519_vent_150mmfan\\706-vent-v10\\706-vent-v10-150mmfan-result\\706-vent-v10-pp1-150mmfan.xlsx create new sheet: test1\n",
      "['test1', 'Sheet']\n",
      "opened excel: G:\\519(706)\\519_vent_150mmfan\\706-vent-v10\\706-vent-v10-150mmfan-result\\706-vent-v10-pp1-150mmfan.xlsx with sheet: test1\n",
      "1\n"
     ]
    }
   ],
   "source": [
    "create_excel(output_path,sheet_name)\n",
    "excel, worksheet2 = load_excel(output_path, sheet_name) #load sheet into worksheet\n",
    "print(worksheet2.max_row)"
   ]
  },
  {
   "cell_type": "code",
   "execution_count": 30,
   "metadata": {},
   "outputs": [
    {
     "name": "stdout",
     "output_type": "stream",
     "text": [
      "1\n",
      "([6, 6, 9, 9, 9, 5], [5, 4, 5, 5, 5, 5], [5, 5, 5, 5, 5, 6], [6, 9, 10, 6, 7, 8, 14, 14, 14, 9, 9], [5, 5, 6, 6, 5, 5, 5, 5, 5, 3, 3], [6, 9, 10, 6, 7, 8, 14, 14, 14, 9, 9], [3, 5, 6, 6, 5, 5, 3, 4, 4, 4, 4], [7, 8, 10], [4, 4, 4], [65])\n",
      "[ 9.  5.  6. 14.  6. 14.  6. 10.  4. 65.]\n",
      "18\n",
      "<class 'list'>\n"
     ]
    }
   ],
   "source": [
    "head_line = []\n",
    "head_line = ['','Volume(L/S)', 'Percentage(%)', 'Static Pressure', '(Pa)','Total Pressure', '(Pa)', 'Uniformity','','Torque(N/m)']\n",
    "shift_right = 3\n",
    "shift_down = 5\n",
    "write_excel(matrix, worksheet2, head_line, shift_right, shift_down, data_name)\n",
    "auto_width(matrix, worksheet2, head_line, shift_right)\n",
    "print(worksheet2.max_row)\n",
    "print(type(head_line))\n",
    "\n",
    "excel.save(filename= output_path)"
   ]
  },
  {
   "cell_type": "code",
   "execution_count": 32,
   "metadata": {},
   "outputs": [],
   "source": [
    "#!jupyter nbconvert --to python txt_to_python.ipynb"
   ]
  },
  {
   "cell_type": "code",
   "execution_count": null,
   "metadata": {},
   "outputs": [],
   "source": []
  },
  {
   "cell_type": "code",
   "execution_count": null,
   "metadata": {},
   "outputs": [],
   "source": []
  }
 ],
 "metadata": {
  "kernelspec": {
   "display_name": "Python 3",
   "language": "python",
   "name": "python3"
  },
  "language_info": {
   "codemirror_mode": {
    "name": "ipython",
    "version": 3
   },
   "file_extension": ".py",
   "mimetype": "text/x-python",
   "name": "python",
   "nbconvert_exporter": "python",
   "pygments_lexer": "ipython3",
   "version": "3.7.3"
  }
 },
 "nbformat": 4,
 "nbformat_minor": 2
}
