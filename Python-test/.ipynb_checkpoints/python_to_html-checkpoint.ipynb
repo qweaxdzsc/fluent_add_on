{
 "cells": [
  {
   "cell_type": "markdown",
   "metadata": {},
   "source": [
    "# Python_to_Html"
   ]
  },
  {
   "cell_type": "code",
   "execution_count": 1,
   "metadata": {},
   "outputs": [
    {
     "name": "stdout",
     "output_type": "stream",
     "text": [
      "['                         \"Surface Integral Report\"\\n', '\\n', '            Volumetric Flow Rate               (m3/s)\\n', '-------------------------------- --------------------\\n', '                          inlet1           0.12690782\\n', '                          inlet2          0.040265336\\n', '                       outlet_vr         -0.072259882\\n', '                       outlet_vl         -0.068461071\\n', '                       outlet_rv         -0.026448814\\n', '                ---------------- --------------------\\n', '                             Net        3.3922177e-06\\n', '\\n', '                  Mass Flow Rate               (kg/s)\\n', '-------------------------------- --------------------\\n', '                          inlet1           0.15546208\\n']\n",
      "[1]\n",
      "[1, 7]\n",
      "['Volumetric', 'Flow', 'Rate', '(m3/s)']\n",
      "['Volumetric', 'Flow', 'Rate', '(m3/s)'] ['inlet1', 'inlet2', 'outlet_vr', 'outlet_vl', 'outlet_rv'] [0.12690782, 0.040265336, -0.072259882, -0.068461071, -0.026448814]\n",
      "[0.12690782, 0.040265336, -0.072259882, -0.068461071, -0.026448814]\n",
      "<class 'list'>\n",
      "['126.9', '40.3', '-72.3', '-68.5', '-26.4', '167.2']\n",
      "['126.9', '40.3', '-72.3', '-68.5', '-26.4', '167.2']\n",
      "[ 75.91399423  24.08600577  43.22457249  40.95219151  15.82120876\n",
      " 100.        ]\n",
      "['75.9', '24.1', '43.2', '41.0', '15.8', '100.0']\n",
      "<class 'list'>\n",
      "['inlet1', 'inlet2', 'outlet_vr', 'outlet_vl', 'outlet_rv', 'Total']\n",
      "[1]\n",
      "[1, 14]\n",
      "['Static', 'Pressure', '(pascal)']\n",
      "['Static', 'Pressure', '(pascal)'] ['inlet2', 'filter_in', 'filter_out', 'fan_in', 'fan_out', 'evap_in', 'evap_out', 'distrib_out_rv', 'distrib_out_vl', 'distrib_out_vr', 'outlet_vr', 'outlet_vl'] [-70.713182, -49.827611, -291.03546, -459.80571, -459.05885, 427.88727, 279.90143, -19.933641, -37.072872, -43.305755, 0.0, 0.0]\n",
      "['-70.7', '-49.8', '-291.0', '-459.8', '-459.1', '427.9', '279.9', '-19.9', '-37.1', '-43.3', '0.0', '0.0']\n",
      "[1]\n",
      "[1, 14]\n",
      "['Total', 'Pressure', '(pascal)']\n",
      "['Total', 'Pressure', '(pascal)'] ['inlet2', 'filter_in', 'filter_out', 'fan_in', 'fan_out', 'evap_in', 'evap_out', 'distrib_out_rv', 'distrib_out_vl', 'distrib_out_vr', 'outlet_vr', 'outlet_vl'] [0.0, -41.61352, -277.4873, -333.38451, 236.70453, 453.65376, 287.34471, 3.0409005, 16.500248, 17.460821, 34.46731, 30.878911]\n",
      "['0.0', '-41.6', '-277.5', '-333.4', '236.7', '453.7', '287.3', '3.0', '16.5', '17.5', '34.5', '30.9']\n",
      "[2]\n",
      "[2, 6]\n",
      "['Uniformity', 'Index', 'Area-Wt.']\n",
      "['Uniformity', 'Index', 'Area-Wt.'] ['evap_in', 'evap_out', 'filter_out'] [0.78879129, 0.85411513, 0.89741684]\n",
      "['0.79', '0.85', '0.90']\n",
      "['0.781']\n",
      "(['inlet1', 'inlet2', 'outlet_vr', 'outlet_vl', 'outlet_rv', 'Total'], ['126.9', '40.3', '-72.3', '-68.5', '-26.4', '167.2'], ['75.9%', '24.1%', '43.2%', '41.0%', '15.8%', '100.0%'], ['inlet2', 'filter_in', 'filter_out', 'fan_in', 'fan_out', 'evap_in', 'evap_out', 'distrib_out_rv', 'distrib_out_vl', 'distrib_out_vr', 'outlet_vr', 'outlet_vl'], ['-70.7', '-49.8', '-291.0', '-459.8', '-459.1', '427.9', '279.9', '-19.9', '-37.1', '-43.3', '0.0', '0.0'], ['inlet2', 'filter_in', 'filter_out', 'fan_in', 'fan_out', 'evap_in', 'evap_out', 'distrib_out_rv', 'distrib_out_vl', 'distrib_out_vr', 'outlet_vr', 'outlet_vl'], ['0.0', '-41.6', '-277.5', '-333.4', '236.7', '453.7', '287.3', '3.0', '16.5', '17.5', '34.5', '30.9'], ['evap_in', 'evap_out', 'filter_out'], ['0.79', '0.85', '0.90'], ['0.781'])\n",
      "create new excel: G:\\519(706)\\519_vent_150mmfan\\706_vent_v9\\706_vent_v9_150mmfan_result\\706-vent-v8-pp1-150mmfan.xlsx create new sheet: test1\n",
      "['test1', 'Sheet']\n",
      "opened excel: G:\\519(706)\\519_vent_150mmfan\\706_vent_v9\\706_vent_v9_150mmfan_result\\706-vent-v8-pp1-150mmfan.xlsx with sheet: test1\n",
      "1\n",
      "1\n",
      "([6, 6, 9, 9, 9, 5], [5, 4, 5, 5, 5, 5], [5, 5, 5, 5, 5, 6], [6, 9, 10, 6, 7, 7, 8, 14, 14, 14, 9, 9], [5, 5, 6, 6, 6, 5, 5, 5, 5, 5, 3, 3], [6, 9, 10, 6, 7, 7, 8, 14, 14, 14, 9, 9], [3, 5, 6, 6, 5, 5, 5, 3, 4, 4, 4, 4], [7, 8, 10], [4, 4, 4], [5])\n",
      "[ 9.  5.  6. 14.  6. 14.  6. 10.  4.  5.]\n",
      "19\n",
      "<class 'list'>\n"
     ]
    },
    {
     "name": "stderr",
     "output_type": "stream",
     "text": [
      "[NbConvertApp] Converting notebook txt_to_python.ipynb to python\n",
      "[NbConvertApp] Writing 8749 bytes to txt_to_python.py\n"
     ]
    }
   ],
   "source": [
    "from txt_to_python import matrix\n",
    "import webbrowser \n",
    "import os"
   ]
  },
  {
   "cell_type": "markdown",
   "metadata": {},
   "source": [
    "### input and output control"
   ]
  },
  {
   "cell_type": "code",
   "execution_count": 2,
   "metadata": {},
   "outputs": [],
   "source": [
    "# input from txt_to_python's matrix\n",
    "output_path = \"G:\\\\519(706)\\\\519_vent_150mmfan\\\\706_vent_v9\\\\706_vent_v9_150mmfan_result\\\\\"\n",
    "title = \"519-vent-v9-pp1-150mmfan-3900RPM\""
   ]
  },
  {
   "cell_type": "markdown",
   "metadata": {},
   "source": [
    "## process data to html format"
   ]
  },
  {
   "cell_type": "code",
   "execution_count": 3,
   "metadata": {},
   "outputs": [],
   "source": [
    "align_l = '<td align=\"left\">'\n",
    "align_c = '<td align=\"center\">'"
   ]
  },
  {
   "cell_type": "code",
   "execution_count": 4,
   "metadata": {},
   "outputs": [],
   "source": [
    "def get_volume_table(matrix):\n",
    "    volume_table = \"\"\"\n",
    "    <table width=\"500\" border=\"2\">\n",
    "    <tr>\n",
    "    <th align=\"left\">Volume Flow Rate</th>\n",
    "    <th align=\"center\">(L/S)</th>\n",
    "    <th align=\"center\">Percentage%</th>\n",
    "    </tr>\"\"\"\n",
    "    for i in range(len(matrix[0])):\n",
    "        volume_table = volume_table + '\\n<tr>' +\\\n",
    "        '\\n'+ align_l+ matrix[0][i]+'</td>'+\\\n",
    "        '\\n'+ align_l+ matrix[1][i]+'</td>'+\\\n",
    "        '\\n'+ align_l+ matrix[2][i]+'</td>'+\\\n",
    "        '\\n</tr>'\n",
    "    volume_table = volume_table + '\\n</table>'\n",
    "    return volume_table"
   ]
  },
  {
   "cell_type": "code",
   "execution_count": 5,
   "metadata": {},
   "outputs": [],
   "source": [
    "def get_sp_table(matrix):\n",
    "    sp_table = \"\"\"\n",
    "    <table width=\"300\" border=\"2\">\n",
    "    <tr>\n",
    "    <th align=\"left\">Static Pressure</th>\n",
    "    <th align=\"center\">(Pa)</th>\n",
    "    </tr>\"\"\"\n",
    "    for i in range(len(matrix[3])):\n",
    "        sp_table = sp_table + '\\n<tr>' +\\\n",
    "        '\\n'+ align_l+ matrix[3][i]+'</td>'+\\\n",
    "        '\\n'+ align_l+ matrix[4][i]+'</td>'+\\\n",
    "        '\\n</tr>'\n",
    "    sp_table = sp_table + '\\n</table>'\n",
    "    return sp_table"
   ]
  },
  {
   "cell_type": "code",
   "execution_count": 6,
   "metadata": {},
   "outputs": [],
   "source": [
    "def get_tp_table(matrix):\n",
    "    tp_table = \"\"\"\n",
    "    <table width=\"250\" border=\"2\">\n",
    "    <tr>\n",
    "    <th align=\"left\">Total Pressure</th>\n",
    "    <th align=\"center\">(Pa)</th>\n",
    "    </tr>\"\"\"\n",
    "    for i in range(len(matrix[5])):\n",
    "        tp_table = tp_table + '\\n<tr>' +\\\n",
    "        '\\n'+ align_l+ matrix[5][i]+'</td>'+\\\n",
    "        '\\n'+ align_l+ matrix[6][i]+'</td>'+\\\n",
    "        '\\n</tr>'\n",
    "    tp_table = tp_table + '\\n</table>'\n",
    "    return tp_table"
   ]
  },
  {
   "cell_type": "code",
   "execution_count": 7,
   "metadata": {},
   "outputs": [],
   "source": [
    "def get_uni_table(matrix):\n",
    "    uni_table = \"\"\"\n",
    "    <table width=\"200\" border=\"2\">\n",
    "    <tr>\n",
    "    <th align=\"left\">Uniformity</th>\n",
    "    <th align=\"center\"></th>\n",
    "    </tr>\"\"\"\n",
    "    for i in range(len(matrix[7])):\n",
    "        uni_table = uni_table + '\\n<tr>' +\\\n",
    "        '\\n'+ align_l+ matrix[7][i]+'</td>'+\\\n",
    "        '\\n'+ align_l+ matrix[8][i]+'</td>'+\\\n",
    "        '\\n</tr>'\n",
    "    uni_table = uni_table + '\\n</table>'\n",
    "    return uni_table"
   ]
  },
  {
   "cell_type": "code",
   "execution_count": 8,
   "metadata": {},
   "outputs": [],
   "source": [
    "def get_moment_table(matrix):\n",
    "    moment_table = \"\"\"\n",
    "    <table width=\"100\" border=\"2\">\n",
    "    <tr>\n",
    "    <th align=\"left\">Torque(N/M)</th>\n",
    "    </tr>\"\"\"\n",
    "    for i in range(len(matrix[9])):\n",
    "        moment_table = moment_table + '\\n<tr>' +\\\n",
    "        '\\n'+ align_l+ matrix[9][i]+'</td>'+\\\n",
    "        '\\n</tr>'\n",
    "    moment_table = moment_table + '\\n</table>'\n",
    "    return moment_table"
   ]
  },
  {
   "cell_type": "code",
   "execution_count": 9,
   "metadata": {},
   "outputs": [],
   "source": [
    "volume_table = get_volume_table(matrix)\n",
    "sp_table = get_sp_table(matrix)\n",
    "tp_table = get_tp_table(matrix)\n",
    "uni_table = get_uni_table(matrix)\n",
    "moment_table = get_moment_table(matrix)"
   ]
  },
  {
   "cell_type": "markdown",
   "metadata": {},
   "source": [
    "## output to HTML"
   ]
  },
  {
   "cell_type": "code",
   "execution_count": 10,
   "metadata": {},
   "outputs": [],
   "source": [
    "os.getcwd()\n",
    "mydir=os.getcwd()\n",
    "ResultHtml= output_path +title + \".html\"\n",
    "report = open(ResultHtml,'w')"
   ]
  },
  {
   "cell_type": "code",
   "execution_count": 11,
   "metadata": {},
   "outputs": [
    {
     "data": {
      "text/plain": [
       "4898"
      ]
     },
     "execution_count": 11,
     "metadata": {},
     "output_type": "execute_result"
    }
   ],
   "source": [
    "message = \"\"\"\n",
    "<html>\n",
    "<head>\n",
    "    <div style=\"background-color:#00008B;width:1500px;height:220px\">\n",
    "    \n",
    "        \n",
    "        <font color=\"#FFFAFA\">\n",
    "        <font size=\"6\">%s</font>  \n",
    "        <p>File Location: %s</p>\n",
    "        <p>Author: Zonghui.Jin</p>\n",
    "        </font>\n",
    "        <img src=\"C:\\\\Users\\\\BZMBN4\\\\Desktop\\\\sdaac_icon.jpg\"/ align=\"right\" align=\"top\">\n",
    "    </div>\n",
    "</head>\n",
    "\n",
    "<body>\n",
    "<body bgcolor=\"#E1FFFF\">\n",
    "<p>------------------------------------------------ </P>\n",
    "<font size=\"4\">Volume Flow Rate</font>\n",
    "\t<p>%s</p>\n",
    "\t<p>------------------------------------------------ </P>\n",
    "<font size=\"4\">Static Pressure</font>\n",
    "\t<p>%s</p>\n",
    "<p>------------------------------------------------ </P>\n",
    "<font size=\"4\">Total Pressure</font>\n",
    "\t<p>%s</p>\n",
    "<p>------------------------------------------------ </P>\n",
    "<font size=\"4\">Uniformity</font>\n",
    "    <p> %s</p>\n",
    "<p>------------------------------------------------ </P>\n",
    "<font size=\"4\">Torque</font>\n",
    "    <p> %s</p>\n",
    "<p>------------------------------------------------ </P>\n",
    "    \n",
    "    <p><font size=\"6\">Pathline_sideview</font></P>\n",
    "\t<img src=\"Pathline_sideview.jpg\" />\n",
    "     \n",
    "    <p><font size=\"6\">Pathline_upview</font><p>\n",
    "\t<img src=\"Pathline_upview.jpg\" />\n",
    "    \n",
    "    <p><font size=\"6\">Evap_out_Contour</font></P>    \n",
    "\t<img src=\"evap_out.jpg\" />\n",
    "    \n",
    "    <p><font size=\"6\">Evap_out_0-4_Contour</font></P>    \n",
    "\t<img src=\"evap_out_0-4.jpg\" />\n",
    "    \n",
    " \t<p><font size=\"6\">Filter_out_Contour</font></P>\n",
    "\t<img src=\"filter_out.jpg\" />  \n",
    "\n",
    "\t<p><font size=\"6\">Filter_out_0-4_Contour</font></P>\n",
    "\t<img src=\"filter_out_0-4.jpg\" /> \n",
    "    \n",
    "    <p> <font size=\"6\">Hc_out Contour</font></P>\n",
    "\t<img src=\"hc_out.jpg\" />\n",
    "    \n",
    "\n",
    "\t</font>\n",
    "\t</body>\n",
    "\t</html>\n",
    "\t\"\"\"%(title, mydir, volume_table, sp_table, tp_table, uni_table, moment_table)\n",
    "report.write(message)"
   ]
  },
  {
   "cell_type": "code",
   "execution_count": 12,
   "metadata": {
    "scrolled": true
   },
   "outputs": [
    {
     "data": {
      "text/plain": [
       "True"
      ]
     },
     "execution_count": 12,
     "metadata": {},
     "output_type": "execute_result"
    }
   ],
   "source": [
    "report.close()\n",
    "\n",
    "webbrowser.open(ResultHtml,1)"
   ]
  },
  {
   "cell_type": "markdown",
   "metadata": {},
   "source": [
    "htmlpage = report.read()\n",
    "print(htmlpage)\n",
    "#for line in htmlpage:"
   ]
  },
  {
   "cell_type": "markdown",
   "metadata": {},
   "source": [
    "from bs4 import BeautifulSoup\n",
    "htmlpage = report.read()\n",
    "soup = BeautifulSoup(htmlpage,\"lxml\")\n",
    "soup1 = soup.prettify\n",
    "soup1"
   ]
  },
  {
   "cell_type": "code",
   "execution_count": 13,
   "metadata": {},
   "outputs": [
    {
     "name": "stderr",
     "output_type": "stream",
     "text": [
      "[NbConvertApp] Converting notebook python_to_html.ipynb to python\n",
      "[NbConvertApp] Writing 5389 bytes to python_to_html.py\n"
     ]
    }
   ],
   "source": [
    "#!jupyter nbconvert --to python python_to_html.ipynb"
   ]
  },
  {
   "cell_type": "markdown",
   "metadata": {},
   "source": [
    "import re\n",
    "withopen('1.html','r')asr:\n",
    "txt=''.join(r.readlines())\n",
    "print(txt)#你原始的html文本\n",
    "defreplace(match):\n",
    "t,s=match.group(1),match.group(1).strip()\n",
    "return'>%s<'%(t.replace(s,str(len(s)))ifselset)\n",
    "txt1=re.sub(r'>([.\\S\\s]*?)<',replace,txt)\n",
    "print(txt1)#转换后的html"
   ]
  }
 ],
 "metadata": {
  "kernelspec": {
   "display_name": "Python 3",
   "language": "python",
   "name": "python3"
  },
  "language_info": {
   "codemirror_mode": {
    "name": "ipython",
    "version": 3
   },
   "file_extension": ".py",
   "mimetype": "text/x-python",
   "name": "python",
   "nbconvert_exporter": "python",
   "pygments_lexer": "ipython3",
   "version": "3.7.3"
  }
 },
 "nbformat": 4,
 "nbformat_minor": 2
}
